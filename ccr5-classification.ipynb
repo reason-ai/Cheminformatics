{
 "cells": [
  {
   "cell_type": "markdown",
   "id": "df8a4dec",
   "metadata": {},
   "source": [
    "## Goal: Develop a model to predict whether a molecule will be active/inactive towards CCR5"
   ]
  },
  {
   "cell_type": "markdown",
   "id": "7fe553cc",
   "metadata": {},
   "source": [
    "## Evaluate 3 different classification algorithms:\n",
    "    1) Gradient Boosted Tree\n",
    "    2) Support Vector Classifier\n",
    "    3) Artificial Neural Network\n",
    "\n",
    "Evaluation metrics include: \n",
    "    ROC curve along with area under curve \n",
    "    precision, recall, and f1-score (confusion matrix, classification report)"
   ]
  },
  {
   "cell_type": "code",
   "execution_count": 1,
   "id": "00e3110d",
   "metadata": {},
   "outputs": [],
   "source": [
    "import numpy as np\n",
    "import pandas as pd\n",
    "import matplotlib.pyplot as plt\n",
    "import seaborn as sns\n",
    "from rdkit import Chem, DataStructs\n",
    "from rdkit.Chem import Draw, Descriptors, AllChem, PandasTools, rdFingerprintGenerator\n",
    "from chembl_webresource_client.new_client import new_client\n",
    "from sklearn.ensemble import GradientBoostingClassifier\n",
    "from sklearn.svm import SVC\n",
    "from sklearn.model_selection import train_test_split, GridSearchCV\n",
    "from sklearn.metrics import confusion_matrix, classification_report, plot_roc_curve\n",
    "from sklearn.base import BaseEstimator, TransformerMixin\n",
    "\n",
    "from tensorflow.keras.models import Sequential\n",
    "from tensorflow.keras.layers import Dense, Dropout\n",
    "from tensorflow.keras.callbacks import EarlyStopping\n",
    "\n",
    "%matplotlib inline"
   ]
  },
  {
   "cell_type": "code",
   "execution_count": 2,
   "id": "162729d2",
   "metadata": {},
   "outputs": [],
   "source": [
    "chembl_id = 'CHEMBL274' #ccr5 chembl id"
   ]
  },
  {
   "cell_type": "code",
   "execution_count": 3,
   "id": "65f4725c",
   "metadata": {},
   "outputs": [],
   "source": [
    "activities_api = new_client.activity\n",
    "activities = activities_api.filter(target_chembl_id=chembl_id,type='IC50',relation='=',assay_type='B').only(\n",
    "    \"activity_id\",\n",
    "    \"assay_chembl_id\",\n",
    "    \"assay_description\",\n",
    "    \"assay_type\",\n",
    "    \"molecule_chembl_id\",\n",
    "    \"type\",\n",
    "    \"standard_units\",\n",
    "    \"relation\",\n",
    "    \"standard_value\",\n",
    "    \"target_chembl_id\",\n",
    "    \"target_organism\")"
   ]
  },
  {
   "cell_type": "code",
   "execution_count": 4,
   "id": "c3494643",
   "metadata": {},
   "outputs": [],
   "source": [
    "activities_df = pd.DataFrame.from_records(activities)"
   ]
  },
  {
   "cell_type": "code",
   "execution_count": 5,
   "id": "f60bfe36",
   "metadata": {},
   "outputs": [
    {
     "data": {
      "text/html": [
       "<div>\n",
       "<style scoped>\n",
       "    .dataframe tbody tr th:only-of-type {\n",
       "        vertical-align: middle;\n",
       "    }\n",
       "\n",
       "    .dataframe tbody tr th {\n",
       "        vertical-align: top;\n",
       "    }\n",
       "\n",
       "    .dataframe thead th {\n",
       "        text-align: right;\n",
       "    }\n",
       "</style>\n",
       "<table border=\"1\" class=\"dataframe\">\n",
       "  <thead>\n",
       "    <tr style=\"text-align: right;\">\n",
       "      <th></th>\n",
       "      <th>activity_id</th>\n",
       "      <th>assay_chembl_id</th>\n",
       "      <th>assay_description</th>\n",
       "      <th>assay_type</th>\n",
       "      <th>molecule_chembl_id</th>\n",
       "      <th>relation</th>\n",
       "      <th>standard_units</th>\n",
       "      <th>standard_value</th>\n",
       "      <th>target_chembl_id</th>\n",
       "      <th>target_organism</th>\n",
       "      <th>type</th>\n",
       "      <th>units</th>\n",
       "      <th>value</th>\n",
       "    </tr>\n",
       "  </thead>\n",
       "  <tbody>\n",
       "    <tr>\n",
       "      <th>0</th>\n",
       "      <td>75508</td>\n",
       "      <td>CHEMBL654653</td>\n",
       "      <td>Binding affinity against C-C chemokine recepto...</td>\n",
       "      <td>B</td>\n",
       "      <td>CHEMBL105460</td>\n",
       "      <td>=</td>\n",
       "      <td>nM</td>\n",
       "      <td>335.0</td>\n",
       "      <td>CHEMBL274</td>\n",
       "      <td>Homo sapiens</td>\n",
       "      <td>IC50</td>\n",
       "      <td>nM</td>\n",
       "      <td>335.0</td>\n",
       "    </tr>\n",
       "    <tr>\n",
       "      <th>1</th>\n",
       "      <td>75508</td>\n",
       "      <td>CHEMBL654653</td>\n",
       "      <td>Binding affinity against C-C chemokine recepto...</td>\n",
       "      <td>B</td>\n",
       "      <td>CHEMBL105460</td>\n",
       "      <td>=</td>\n",
       "      <td>nM</td>\n",
       "      <td>335.0</td>\n",
       "      <td>CHEMBL274</td>\n",
       "      <td>Homo sapiens</td>\n",
       "      <td>IC50</td>\n",
       "      <td>nM</td>\n",
       "      <td>335.0</td>\n",
       "    </tr>\n",
       "    <tr>\n",
       "      <th>2</th>\n",
       "      <td>75509</td>\n",
       "      <td>CHEMBL654653</td>\n",
       "      <td>Binding affinity against C-C chemokine recepto...</td>\n",
       "      <td>B</td>\n",
       "      <td>CHEMBL105606</td>\n",
       "      <td>=</td>\n",
       "      <td>nM</td>\n",
       "      <td>28.0</td>\n",
       "      <td>CHEMBL274</td>\n",
       "      <td>Homo sapiens</td>\n",
       "      <td>IC50</td>\n",
       "      <td>nM</td>\n",
       "      <td>28.0</td>\n",
       "    </tr>\n",
       "    <tr>\n",
       "      <th>3</th>\n",
       "      <td>75510</td>\n",
       "      <td>CHEMBL654653</td>\n",
       "      <td>Binding affinity against C-C chemokine recepto...</td>\n",
       "      <td>B</td>\n",
       "      <td>CHEMBL105570</td>\n",
       "      <td>=</td>\n",
       "      <td>nM</td>\n",
       "      <td>10.0</td>\n",
       "      <td>CHEMBL274</td>\n",
       "      <td>Homo sapiens</td>\n",
       "      <td>IC50</td>\n",
       "      <td>nM</td>\n",
       "      <td>10.0</td>\n",
       "    </tr>\n",
       "    <tr>\n",
       "      <th>4</th>\n",
       "      <td>76739</td>\n",
       "      <td>CHEMBL873385</td>\n",
       "      <td>Binding affinity against human CCR5 receptor s...</td>\n",
       "      <td>B</td>\n",
       "      <td>CHEMBL83338</td>\n",
       "      <td>=</td>\n",
       "      <td>nM</td>\n",
       "      <td>35.0</td>\n",
       "      <td>CHEMBL274</td>\n",
       "      <td>Homo sapiens</td>\n",
       "      <td>IC50</td>\n",
       "      <td>nM</td>\n",
       "      <td>35.0</td>\n",
       "    </tr>\n",
       "  </tbody>\n",
       "</table>\n",
       "</div>"
      ],
      "text/plain": [
       "   activity_id assay_chembl_id  \\\n",
       "0        75508    CHEMBL654653   \n",
       "1        75508    CHEMBL654653   \n",
       "2        75509    CHEMBL654653   \n",
       "3        75510    CHEMBL654653   \n",
       "4        76739    CHEMBL873385   \n",
       "\n",
       "                                   assay_description assay_type  \\\n",
       "0  Binding affinity against C-C chemokine recepto...          B   \n",
       "1  Binding affinity against C-C chemokine recepto...          B   \n",
       "2  Binding affinity against C-C chemokine recepto...          B   \n",
       "3  Binding affinity against C-C chemokine recepto...          B   \n",
       "4  Binding affinity against human CCR5 receptor s...          B   \n",
       "\n",
       "  molecule_chembl_id relation standard_units standard_value target_chembl_id  \\\n",
       "0       CHEMBL105460        =             nM          335.0        CHEMBL274   \n",
       "1       CHEMBL105460        =             nM          335.0        CHEMBL274   \n",
       "2       CHEMBL105606        =             nM           28.0        CHEMBL274   \n",
       "3       CHEMBL105570        =             nM           10.0        CHEMBL274   \n",
       "4        CHEMBL83338        =             nM           35.0        CHEMBL274   \n",
       "\n",
       "  target_organism  type units  value  \n",
       "0    Homo sapiens  IC50    nM  335.0  \n",
       "1    Homo sapiens  IC50    nM  335.0  \n",
       "2    Homo sapiens  IC50    nM   28.0  \n",
       "3    Homo sapiens  IC50    nM   10.0  \n",
       "4    Homo sapiens  IC50    nM   35.0  "
      ]
     },
     "execution_count": 5,
     "metadata": {},
     "output_type": "execute_result"
    }
   ],
   "source": [
    "activities_df.head()"
   ]
  },
  {
   "cell_type": "code",
   "execution_count": 6,
   "id": "76c31565",
   "metadata": {},
   "outputs": [],
   "source": [
    "act_df = activities_df.drop(['assay_description','assay_type','relation','units','value'],axis=1)"
   ]
  },
  {
   "cell_type": "code",
   "execution_count": 7,
   "id": "b1e25015",
   "metadata": {},
   "outputs": [
    {
     "name": "stdout",
     "output_type": "stream",
     "text": [
      "<class 'pandas.core.frame.DataFrame'>\n",
      "RangeIndex: 1757 entries, 0 to 1756\n",
      "Data columns (total 8 columns):\n",
      " #   Column              Non-Null Count  Dtype \n",
      "---  ------              --------------  ----- \n",
      " 0   activity_id         1757 non-null   int64 \n",
      " 1   assay_chembl_id     1757 non-null   object\n",
      " 2   molecule_chembl_id  1757 non-null   object\n",
      " 3   standard_units      1757 non-null   object\n",
      " 4   standard_value      1757 non-null   object\n",
      " 5   target_chembl_id    1757 non-null   object\n",
      " 6   target_organism     1757 non-null   object\n",
      " 7   type                1757 non-null   object\n",
      "dtypes: int64(1), object(7)\n",
      "memory usage: 109.9+ KB\n"
     ]
    }
   ],
   "source": [
    "act_df.info()"
   ]
  },
  {
   "cell_type": "code",
   "execution_count": 8,
   "id": "46f35d99",
   "metadata": {},
   "outputs": [],
   "source": [
    "act_df['standard_value'] = act_df['standard_value'].astype('float64')"
   ]
  },
  {
   "cell_type": "code",
   "execution_count": 9,
   "id": "90012ef6",
   "metadata": {},
   "outputs": [
    {
     "data": {
      "text/plain": [
       "activity_id           0\n",
       "assay_chembl_id       0\n",
       "molecule_chembl_id    0\n",
       "standard_units        0\n",
       "standard_value        0\n",
       "target_chembl_id      0\n",
       "target_organism       0\n",
       "type                  0\n",
       "dtype: int64"
      ]
     },
     "execution_count": 9,
     "metadata": {},
     "output_type": "execute_result"
    }
   ],
   "source": [
    "act_df.isnull().sum() #no null values"
   ]
  },
  {
   "cell_type": "code",
   "execution_count": 10,
   "id": "cc53903a",
   "metadata": {},
   "outputs": [
    {
     "data": {
      "text/plain": [
       "array(['nM'], dtype=object)"
      ]
     },
     "execution_count": 10,
     "metadata": {},
     "output_type": "execute_result"
    }
   ],
   "source": [
    "act_df['standard_units'].unique() #check units, all are in 'nM'"
   ]
  },
  {
   "cell_type": "code",
   "execution_count": 11,
   "id": "d73e7466",
   "metadata": {},
   "outputs": [],
   "source": [
    "act_df = act_df.drop_duplicates('molecule_chembl_id',keep='first')"
   ]
  },
  {
   "cell_type": "code",
   "execution_count": 12,
   "id": "fd6af4d3",
   "metadata": {},
   "outputs": [],
   "source": [
    "act_df = act_df.reset_index(drop=True)"
   ]
  },
  {
   "cell_type": "code",
   "execution_count": 13,
   "id": "0ec95e86",
   "metadata": {},
   "outputs": [],
   "source": [
    "# convert IC50 to pIC50\n",
    "act_df = act_df.rename(columns={'standard_value':'IC50'})\n",
    "act_df['pIC50'] = 9 - np.log10(act_df['IC50'])"
   ]
  },
  {
   "cell_type": "code",
   "execution_count": 14,
   "id": "b5ad9b2f",
   "metadata": {},
   "outputs": [],
   "source": [
    "act_df = act_df[['molecule_chembl_id','pIC50']] #only need chembl_id and pIC50 columns now"
   ]
  },
  {
   "cell_type": "code",
   "execution_count": 15,
   "id": "3f4de137",
   "metadata": {},
   "outputs": [],
   "source": [
    "#use chembl_ids to retrieve molecule structures from Chembl\n",
    "chembl_ids = act_df['molecule_chembl_id'].to_list()\n",
    "molecules = new_client.molecule\n",
    "mols = molecules.filter(molecule_chembl_id__in=chembl_ids).only('molecule_chembl_id','molecule_structures')\n",
    "mols = list(mols)"
   ]
  },
  {
   "cell_type": "code",
   "execution_count": 16,
   "id": "7c2fd996",
   "metadata": {},
   "outputs": [],
   "source": [
    "molecules = pd.DataFrame.from_records(mols)"
   ]
  },
  {
   "cell_type": "code",
   "execution_count": 17,
   "id": "439a8b48",
   "metadata": {},
   "outputs": [
    {
     "data": {
      "text/plain": [
       "0       {'canonical_smiles': 'CC(C)(C)c1ccc(C(O)CCCN2C...\n",
       "1       {'canonical_smiles': 'O=C(O)[C@@H](CC1CCC1)N1C...\n",
       "2       {'canonical_smiles': 'COP(=O)(CCC1CCN(C[C@H]2C...\n",
       "3       {'canonical_smiles': 'O=C(O)[C@@H](C1CCCCC1)N1...\n",
       "4       {'canonical_smiles': 'O=C(O)[C@@H](CC1CCC1)N1C...\n",
       "                              ...                        \n",
       "1480    {'canonical_smiles': 'Nc1nc2[nH]c(C3CC3)c(Cc3c...\n",
       "1481    {'canonical_smiles': 'CC(=O)C1=C(O)C(=O)N(c2cc...\n",
       "1482    {'canonical_smiles': 'CC(C)c1[nH]c2nc(N)nn2c(=...\n",
       "1483    {'canonical_smiles': 'CC(C)c1[nH]c2nc(N)nn2c(=...\n",
       "1484    {'canonical_smiles': 'CC(C)c1[nH]c2nc(N)nn2c(=...\n",
       "Name: molecule_structures, Length: 1485, dtype: object"
      ]
     },
     "execution_count": 17,
     "metadata": {},
     "output_type": "execute_result"
    }
   ],
   "source": [
    "molecules['molecule_structures']"
   ]
  },
  {
   "cell_type": "code",
   "execution_count": 18,
   "id": "bd864c52",
   "metadata": {},
   "outputs": [],
   "source": [
    "molecules['smiles'] = molecules['molecule_structures'].apply(lambda x: x.get('canonical_smiles',np.nan))\n",
    "molecules = molecules.drop('molecule_structures',axis=1)"
   ]
  },
  {
   "cell_type": "code",
   "execution_count": 19,
   "id": "7af4e735",
   "metadata": {},
   "outputs": [],
   "source": [
    "molecules = pd.merge(molecules,act_df[['molecule_chembl_id','pIC50']],on='molecule_chembl_id')"
   ]
  },
  {
   "cell_type": "code",
   "execution_count": 20,
   "id": "e3487ad0",
   "metadata": {},
   "outputs": [],
   "source": [
    "moles = molecules.copy()\n",
    "molecules.to_csv('ccr5_data.csv',index=False)"
   ]
  },
  {
   "cell_type": "code",
   "execution_count": 21,
   "id": "d321801c",
   "metadata": {},
   "outputs": [],
   "source": [
    "class FingerPrinter(BaseEstimator,TransformerMixin):\n",
    "    \n",
    "    def __init__(self,gen_method='morgan',radius=3):\n",
    "        self.radius = radius\n",
    "        self.gen = self.get_gen_method(gen_method)\n",
    "    \n",
    "    def fit(self,X,y=None):\n",
    "        return self\n",
    "    \n",
    "    def transform(self,X):\n",
    "        mols = [Chem.MolFromSmiles(row.smiles) for _,row in X.iterrows()]\n",
    "        fps = [np.array(self.gen.GetFingerprint(mol)) for mol in mols]\n",
    "        return fps\n",
    "    \n",
    "    def get_gen_method(self,gen_method):\n",
    "        if gen_method.lower() == 'morgan':\n",
    "            return rdFingerprintGenerator.GetMorganGenerator(self.radius)\n",
    "        elif gen_method.lower() == 'atom_pair':\n",
    "            return rdFingerprintGenerator.GetAtomPairGenerator()\n",
    "        elif gen_method.lower() == 'rdfp':\n",
    "            return rdFingerprintGenerator.GetRDKitFPGenerator()\n",
    "        else:\n",
    "            print('Invalid method selected. None returned')\n",
    "            return None"
   ]
  },
  {
   "cell_type": "code",
   "execution_count": 22,
   "id": "6e3c5c21",
   "metadata": {},
   "outputs": [],
   "source": [
    "fpr = FingerPrinter()\n",
    "molecules['fp'] = fpr.fit_transform(molecules)"
   ]
  },
  {
   "cell_type": "code",
   "execution_count": 23,
   "id": "88ebe56b",
   "metadata": {},
   "outputs": [
    {
     "data": {
      "text/html": [
       "<div>\n",
       "<style scoped>\n",
       "    .dataframe tbody tr th:only-of-type {\n",
       "        vertical-align: middle;\n",
       "    }\n",
       "\n",
       "    .dataframe tbody tr th {\n",
       "        vertical-align: top;\n",
       "    }\n",
       "\n",
       "    .dataframe thead th {\n",
       "        text-align: right;\n",
       "    }\n",
       "</style>\n",
       "<table border=\"1\" class=\"dataframe\">\n",
       "  <thead>\n",
       "    <tr style=\"text-align: right;\">\n",
       "      <th></th>\n",
       "      <th>molecule_chembl_id</th>\n",
       "      <th>smiles</th>\n",
       "      <th>pIC50</th>\n",
       "      <th>fp</th>\n",
       "      <th>active</th>\n",
       "    </tr>\n",
       "  </thead>\n",
       "  <tbody>\n",
       "    <tr>\n",
       "      <th>0</th>\n",
       "      <td>CHEMBL17157</td>\n",
       "      <td>CC(C)(C)c1ccc(C(O)CCCN2CCC(C(O)(c3ccccc3)c3ccc...</td>\n",
       "      <td>5.957424</td>\n",
       "      <td>[0, 1, 0, 0, 0, 0, 0, 0, 0, 0, 0, 0, 0, 0, 0, ...</td>\n",
       "      <td>0</td>\n",
       "    </tr>\n",
       "    <tr>\n",
       "      <th>1</th>\n",
       "      <td>CHEMBL20345</td>\n",
       "      <td>O=C(O)[C@@H](CC1CCC1)N1C[C@H](CN2CCC(CCSc3ccc(...</td>\n",
       "      <td>10.000000</td>\n",
       "      <td>[0, 1, 0, 0, 0, 0, 0, 0, 0, 0, 0, 0, 0, 1, 0, ...</td>\n",
       "      <td>1</td>\n",
       "    </tr>\n",
       "    <tr>\n",
       "      <th>2</th>\n",
       "      <td>CHEMBL20818</td>\n",
       "      <td>COP(=O)(CCC1CCN(C[C@H]2CN([C@H](CC3CC3)C(=O)O)...</td>\n",
       "      <td>7.721246</td>\n",
       "      <td>[0, 1, 0, 0, 0, 0, 0, 0, 0, 0, 0, 0, 0, 0, 0, ...</td>\n",
       "      <td>1</td>\n",
       "    </tr>\n",
       "    <tr>\n",
       "      <th>3</th>\n",
       "      <td>CHEMBL280344</td>\n",
       "      <td>O=C(O)[C@@H](C1CCCCC1)N1C[C@H](CN2CCC(CCS(=O)(...</td>\n",
       "      <td>8.958607</td>\n",
       "      <td>[0, 1, 1, 0, 0, 0, 0, 0, 0, 0, 0, 0, 0, 0, 0, ...</td>\n",
       "      <td>1</td>\n",
       "    </tr>\n",
       "    <tr>\n",
       "      <th>4</th>\n",
       "      <td>CHEMBL21147</td>\n",
       "      <td>O=C(O)[C@@H](CC1CCC1)N1C[C@H](CN2CCC(CCCc3ccc(...</td>\n",
       "      <td>9.698970</td>\n",
       "      <td>[0, 1, 0, 0, 0, 0, 0, 0, 0, 0, 0, 0, 0, 0, 0, ...</td>\n",
       "      <td>1</td>\n",
       "    </tr>\n",
       "    <tr>\n",
       "      <th>...</th>\n",
       "      <td>...</td>\n",
       "      <td>...</td>\n",
       "      <td>...</td>\n",
       "      <td>...</td>\n",
       "      <td>...</td>\n",
       "    </tr>\n",
       "    <tr>\n",
       "      <th>1480</th>\n",
       "      <td>CHEMBL4517518</td>\n",
       "      <td>Nc1nc2[nH]c(C3CC3)c(Cc3cccc(Cl)c3)c(=O)n2n1</td>\n",
       "      <td>3.243364</td>\n",
       "      <td>[0, 0, 0, 0, 0, 0, 0, 0, 0, 0, 0, 0, 0, 0, 0, ...</td>\n",
       "      <td>0</td>\n",
       "    </tr>\n",
       "    <tr>\n",
       "      <th>1481</th>\n",
       "      <td>CHEMBL4519152</td>\n",
       "      <td>CC(=O)C1=C(O)C(=O)N(c2ccc(Cl)cc2F)[C@@H]1C1CCCCC1</td>\n",
       "      <td>6.153045</td>\n",
       "      <td>[0, 0, 1, 0, 0, 0, 0, 0, 0, 0, 0, 0, 0, 0, 0, ...</td>\n",
       "      <td>0</td>\n",
       "    </tr>\n",
       "    <tr>\n",
       "      <th>1482</th>\n",
       "      <td>CHEMBL4531005</td>\n",
       "      <td>CC(C)c1[nH]c2nc(N)nn2c(=O)c1Cc1cccc(Cl)c1Cl</td>\n",
       "      <td>4.075721</td>\n",
       "      <td>[0, 1, 0, 0, 0, 0, 0, 0, 0, 0, 0, 0, 0, 0, 0, ...</td>\n",
       "      <td>0</td>\n",
       "    </tr>\n",
       "    <tr>\n",
       "      <th>1483</th>\n",
       "      <td>CHEMBL4544504</td>\n",
       "      <td>CC(C)c1[nH]c2nc(N)nn2c(=O)c1Cc1ccc(Cl)c(Br)c1</td>\n",
       "      <td>3.939302</td>\n",
       "      <td>[0, 1, 0, 0, 0, 0, 0, 0, 0, 0, 0, 0, 0, 0, 0, ...</td>\n",
       "      <td>0</td>\n",
       "    </tr>\n",
       "    <tr>\n",
       "      <th>1484</th>\n",
       "      <td>CHEMBL4548396</td>\n",
       "      <td>CC(C)c1[nH]c2nc(N)nn2c(=O)c1Cc1ccc(Cl)c(Cl)c1</td>\n",
       "      <td>3.879426</td>\n",
       "      <td>[0, 1, 0, 0, 0, 0, 0, 0, 0, 0, 0, 0, 0, 0, 0, ...</td>\n",
       "      <td>0</td>\n",
       "    </tr>\n",
       "  </tbody>\n",
       "</table>\n",
       "<p>1485 rows × 5 columns</p>\n",
       "</div>"
      ],
      "text/plain": [
       "     molecule_chembl_id                                             smiles  \\\n",
       "0           CHEMBL17157  CC(C)(C)c1ccc(C(O)CCCN2CCC(C(O)(c3ccccc3)c3ccc...   \n",
       "1           CHEMBL20345  O=C(O)[C@@H](CC1CCC1)N1C[C@H](CN2CCC(CCSc3ccc(...   \n",
       "2           CHEMBL20818  COP(=O)(CCC1CCN(C[C@H]2CN([C@H](CC3CC3)C(=O)O)...   \n",
       "3          CHEMBL280344  O=C(O)[C@@H](C1CCCCC1)N1C[C@H](CN2CCC(CCS(=O)(...   \n",
       "4           CHEMBL21147  O=C(O)[C@@H](CC1CCC1)N1C[C@H](CN2CCC(CCCc3ccc(...   \n",
       "...                 ...                                                ...   \n",
       "1480      CHEMBL4517518        Nc1nc2[nH]c(C3CC3)c(Cc3cccc(Cl)c3)c(=O)n2n1   \n",
       "1481      CHEMBL4519152  CC(=O)C1=C(O)C(=O)N(c2ccc(Cl)cc2F)[C@@H]1C1CCCCC1   \n",
       "1482      CHEMBL4531005        CC(C)c1[nH]c2nc(N)nn2c(=O)c1Cc1cccc(Cl)c1Cl   \n",
       "1483      CHEMBL4544504      CC(C)c1[nH]c2nc(N)nn2c(=O)c1Cc1ccc(Cl)c(Br)c1   \n",
       "1484      CHEMBL4548396      CC(C)c1[nH]c2nc(N)nn2c(=O)c1Cc1ccc(Cl)c(Cl)c1   \n",
       "\n",
       "          pIC50                                                 fp  active  \n",
       "0      5.957424  [0, 1, 0, 0, 0, 0, 0, 0, 0, 0, 0, 0, 0, 0, 0, ...       0  \n",
       "1     10.000000  [0, 1, 0, 0, 0, 0, 0, 0, 0, 0, 0, 0, 0, 1, 0, ...       1  \n",
       "2      7.721246  [0, 1, 0, 0, 0, 0, 0, 0, 0, 0, 0, 0, 0, 0, 0, ...       1  \n",
       "3      8.958607  [0, 1, 1, 0, 0, 0, 0, 0, 0, 0, 0, 0, 0, 0, 0, ...       1  \n",
       "4      9.698970  [0, 1, 0, 0, 0, 0, 0, 0, 0, 0, 0, 0, 0, 0, 0, ...       1  \n",
       "...         ...                                                ...     ...  \n",
       "1480   3.243364  [0, 0, 0, 0, 0, 0, 0, 0, 0, 0, 0, 0, 0, 0, 0, ...       0  \n",
       "1481   6.153045  [0, 0, 1, 0, 0, 0, 0, 0, 0, 0, 0, 0, 0, 0, 0, ...       0  \n",
       "1482   4.075721  [0, 1, 0, 0, 0, 0, 0, 0, 0, 0, 0, 0, 0, 0, 0, ...       0  \n",
       "1483   3.939302  [0, 1, 0, 0, 0, 0, 0, 0, 0, 0, 0, 0, 0, 0, 0, ...       0  \n",
       "1484   3.879426  [0, 1, 0, 0, 0, 0, 0, 0, 0, 0, 0, 0, 0, 0, 0, ...       0  \n",
       "\n",
       "[1485 rows x 5 columns]"
      ]
     },
     "execution_count": 23,
     "metadata": {},
     "output_type": "execute_result"
    }
   ],
   "source": [
    "molecules['active'] = (molecules['pIC50']>6.3).astype('int32')\n",
    "molecules"
   ]
  },
  {
   "cell_type": "code",
   "execution_count": 24,
   "id": "1c6ef963",
   "metadata": {},
   "outputs": [
    {
     "data": {
      "text/plain": [
       "<AxesSubplot:xlabel='active', ylabel='count'>"
      ]
     },
     "execution_count": 24,
     "metadata": {},
     "output_type": "execute_result"
    },
    {
     "data": {
      "image/png": "[encoded data removed]",
      "text/plain": [
       "<Figure size 432x288 with 1 Axes>"
      ]
     },
     "metadata": {
      "needs_background": "light"
     },
     "output_type": "display_data"
    }
   ],
   "source": [
    "sns.countplot(data=molecules,x='active') \n",
    "#imbalanced class distribution - will need to account for this with certain ML algorithms (i.e. SVC, ANN)"
   ]
  },
  {
   "cell_type": "code",
   "execution_count": 25,
   "id": "ade9ea45",
   "metadata": {},
   "outputs": [],
   "source": [
    "X = molecules['fp'].to_list()\n",
    "y = molecules['active'].values\n",
    "X = np.array(X)"
   ]
  },
  {
   "cell_type": "code",
   "execution_count": 26,
   "id": "293116ed",
   "metadata": {},
   "outputs": [],
   "source": [
    "X_train, X_test, y_train, y_test = train_test_split(X, y, test_size=0.2)"
   ]
  },
  {
   "cell_type": "code",
   "execution_count": 27,
   "id": "5732deec",
   "metadata": {},
   "outputs": [
    {
     "data": {
      "text/plain": [
       "GridSearchCV(cv=10, estimator=GradientBoostingClassifier(),\n",
       "             param_grid={'max_depth': [3, 4, 5, 6],\n",
       "                         'n_estimators': [10, 25, 50, 100, 200]})"
      ]
     },
     "execution_count": 27,
     "metadata": {},
     "output_type": "execute_result"
    }
   ],
   "source": [
    "gbc = GradientBoostingClassifier()\n",
    "params = {'n_estimators':[10,25,50,100,200],'max_depth':[3,4,5,6]}\n",
    "grid_clf = GridSearchCV(estimator=gbc, param_grid=params, cv=10)\n",
    "grid_clf.fit(X_train,y_train)"
   ]
  },
  {
   "cell_type": "code",
   "execution_count": 28,
   "id": "1fb53732",
   "metadata": {},
   "outputs": [
    {
     "data": {
      "text/plain": [
       "{'max_depth': 6, 'n_estimators': 25}"
      ]
     },
     "execution_count": 28,
     "metadata": {},
     "output_type": "execute_result"
    }
   ],
   "source": [
    "grid_clf.best_params_"
   ]
  },
  {
   "cell_type": "code",
   "execution_count": 29,
   "id": "da9008bc",
   "metadata": {},
   "outputs": [
    {
     "data": {
      "text/plain": [
       "<sklearn.metrics._plot.roc_curve.RocCurveDisplay at 0x22bd1605ac0>"
      ]
     },
     "execution_count": 29,
     "metadata": {},
     "output_type": "execute_result"
    },
    {
     "data": {
      "image/png": "[encoded data removed]",
      "text/plain": [
       "<Figure size 432x288 with 1 Axes>"
      ]
     },
     "metadata": {
      "needs_background": "light"
     },
     "output_type": "display_data"
    }
   ],
   "source": [
    "plot_roc_curve(grid_clf,X_test,y_test)"
   ]
  },
  {
   "cell_type": "code",
   "execution_count": 30,
   "id": "9565cebb",
   "metadata": {},
   "outputs": [
    {
     "name": "stdout",
     "output_type": "stream",
     "text": [
      "              precision    recall  f1-score   support\n",
      "\n",
      "           0       0.83      0.58      0.68        52\n",
      "           1       0.92      0.98      0.94       245\n",
      "\n",
      "    accuracy                           0.91       297\n",
      "   macro avg       0.87      0.78      0.81       297\n",
      "weighted avg       0.90      0.91      0.90       297\n",
      "\n"
     ]
    }
   ],
   "source": [
    "y_hat = grid_clf.predict(X_test)\n",
    "print(classification_report(y_test,y_hat))"
   ]
  },
  {
   "cell_type": "code",
   "execution_count": 31,
   "id": "fb222400",
   "metadata": {},
   "outputs": [
    {
     "data": {
      "text/plain": [
       "array([[ 30,  22],\n",
       "       [  6, 239]], dtype=int64)"
      ]
     },
     "execution_count": 31,
     "metadata": {},
     "output_type": "execute_result"
    }
   ],
   "source": [
    "confusion_matrix(y_test,y_hat)"
   ]
  },
  {
   "cell_type": "markdown",
   "id": "afb68478",
   "metadata": {},
   "source": [
    "Support Vector Classifier"
   ]
  },
  {
   "cell_type": "code",
   "execution_count": 32,
   "id": "a0046df8",
   "metadata": {},
   "outputs": [
    {
     "data": {
      "text/plain": [
       "GridSearchCV(cv=10, estimator=SVC(class_weight='balanced', probability=True),\n",
       "             param_grid={'C': [0.01, 0.1, 1, 10], 'kernel': ['linear', 'rbf']})"
      ]
     },
     "execution_count": 32,
     "metadata": {},
     "output_type": "execute_result"
    }
   ],
   "source": [
    "svc = SVC(class_weight='balanced',probability=True)\n",
    "params = {'kernel':['linear','rbf'],'C':[0.01,0.1,1,10]}\n",
    "grid_svc = GridSearchCV(estimator=svc,param_grid=params,cv=10)\n",
    "grid_svc.fit(X_train,y_train)"
   ]
  },
  {
   "cell_type": "code",
   "execution_count": 33,
   "id": "064b5a65",
   "metadata": {},
   "outputs": [
    {
     "data": {
      "text/plain": [
       "{'C': 10, 'kernel': 'rbf'}"
      ]
     },
     "execution_count": 33,
     "metadata": {},
     "output_type": "execute_result"
    }
   ],
   "source": [
    "grid_svc.best_params_"
   ]
  },
  {
   "cell_type": "code",
   "execution_count": 34,
   "id": "cdc205e2",
   "metadata": {},
   "outputs": [
    {
     "data": {
      "text/plain": [
       "<sklearn.metrics._plot.roc_curve.RocCurveDisplay at 0x22be2c1f8b0>"
      ]
     },
     "execution_count": 34,
     "metadata": {},
     "output_type": "execute_result"
    },
    {
     "data": {
      "image/png": "[encoded data removed]",
      "text/plain": [
       "<Figure size 432x288 with 1 Axes>"
      ]
     },
     "metadata": {
      "needs_background": "light"
     },
     "output_type": "display_data"
    }
   ],
   "source": [
    "plot_roc_curve(grid_svc,X_test,y_test)"
   ]
  },
  {
   "cell_type": "code",
   "execution_count": 35,
   "id": "7d78347c",
   "metadata": {},
   "outputs": [
    {
     "name": "stdout",
     "output_type": "stream",
     "text": [
      "              precision    recall  f1-score   support\n",
      "\n",
      "           0       0.85      0.77      0.81        52\n",
      "           1       0.95      0.97      0.96       245\n",
      "\n",
      "    accuracy                           0.94       297\n",
      "   macro avg       0.90      0.87      0.88       297\n",
      "weighted avg       0.93      0.94      0.93       297\n",
      "\n"
     ]
    }
   ],
   "source": [
    "y_hat = grid_svc.predict(X_test)\n",
    "print(classification_report(y_test,y_hat))"
   ]
  },
  {
   "cell_type": "code",
   "execution_count": 36,
   "id": "3362d573",
   "metadata": {},
   "outputs": [
    {
     "data": {
      "text/plain": [
       "array([[ 40,  12],\n",
       "       [  7, 238]], dtype=int64)"
      ]
     },
     "execution_count": 36,
     "metadata": {},
     "output_type": "execute_result"
    }
   ],
   "source": [
    "confusion_matrix(y_test,y_hat)"
   ]
  },
  {
   "cell_type": "markdown",
   "id": "29ca3f5f",
   "metadata": {},
   "source": [
    "Artificial Neural Network"
   ]
  },
  {
   "cell_type": "code",
   "execution_count": 37,
   "id": "6aa6d353",
   "metadata": {},
   "outputs": [],
   "source": [
    "X = molecules['fp'].to_list()\n",
    "y = molecules['active'].values\n",
    "X = np.array(X)\n",
    "X_train, X_test, y_train, y_test = train_test_split(X, y, test_size=0.2)"
   ]
  },
  {
   "cell_type": "code",
   "execution_count": 38,
   "id": "1e236f3d",
   "metadata": {},
   "outputs": [
    {
     "name": "stdout",
     "output_type": "stream",
     "text": [
      "#pos = 1196\n",
      "#neg = 289\n",
      "total = 1485\n"
     ]
    }
   ],
   "source": [
    "pos = np.sum(y==1)\n",
    "neg = np.sum(y==0)\n",
    "total = len(y)\n",
    "wgt_0 = (1/neg) * (total/2.0)\n",
    "wgt_1 = (1/pos) * (total/2.0)\n",
    "class_weight = {0:wgt_0, 1:wgt_1}\n",
    "print(f'#pos = {pos}\\n#neg = {neg}\\ntotal = {total}')"
   ]
  },
  {
   "cell_type": "code",
   "execution_count": 39,
   "id": "c3c6eee1",
   "metadata": {},
   "outputs": [],
   "source": [
    "early_stop = EarlyStopping(monitor='val_loss', patience=25, mode='min')"
   ]
  },
  {
   "cell_type": "code",
   "execution_count": 40,
   "id": "a6cd18e0",
   "metadata": {},
   "outputs": [],
   "source": [
    "model = Sequential()\n",
    "model.add(Dense(256,activation='relu'))\n",
    "model.add(Dropout(0.5))\n",
    "model.add(Dense(256,activation='relu'))\n",
    "model.add(Dropout(0.5))\n",
    "model.add(Dense(128,activation='relu'))\n",
    "model.add(Dropout(0.5))\n",
    "model.add(Dense(1,activation='sigmoid'))\n",
    "model.compile(loss='binary_crossentropy',optimizer='adam')"
   ]
  },
  {
   "cell_type": "code",
   "execution_count": 41,
   "id": "ae047ff2",
   "metadata": {},
   "outputs": [
    {
     "name": "stdout",
     "output_type": "stream",
     "text": [
      "Epoch 1/500\n",
      "5/5 [==============================] - 0s 40ms/step - loss: 0.7058 - val_loss: 0.5704\n",
      "Epoch 2/500\n",
      "5/5 [==============================] - 0s 12ms/step - loss: 0.6042 - val_loss: 0.4801\n",
      "Epoch 3/500\n",
      "5/5 [==============================] - 0s 12ms/step - loss: 0.4963 - val_loss: 0.3945\n",
      "Epoch 4/500\n",
      "5/5 [==============================] - 0s 11ms/step - loss: 0.4219 - val_loss: 0.3655\n",
      "Epoch 5/500\n",
      "5/5 [==============================] - 0s 14ms/step - loss: 0.3636 - val_loss: 0.3241\n",
      "Epoch 6/500\n",
      "5/5 [==============================] - 0s 12ms/step - loss: 0.3133 - val_loss: 0.3214\n",
      "Epoch 7/500\n",
      "5/5 [==============================] - 0s 12ms/step - loss: 0.2632 - val_loss: 0.2968\n",
      "Epoch 8/500\n",
      "5/5 [==============================] - 0s 14ms/step - loss: 0.2388 - val_loss: 0.2637\n",
      "Epoch 9/500\n",
      "5/5 [==============================] - 0s 14ms/step - loss: 0.1816 - val_loss: 0.2614\n",
      "Epoch 10/500\n",
      "5/5 [==============================] - 0s 14ms/step - loss: 0.1811 - val_loss: 0.2796\n",
      "Epoch 11/500\n",
      "5/5 [==============================] - 0s 12ms/step - loss: 0.1497 - val_loss: 0.2556\n",
      "Epoch 12/500\n",
      "5/5 [==============================] - 0s 14ms/step - loss: 0.1353 - val_loss: 0.2823\n",
      "Epoch 13/500\n",
      "5/5 [==============================] - 0s 14ms/step - loss: 0.1202 - val_loss: 0.2719\n",
      "Epoch 14/500\n",
      "5/5 [==============================] - 0s 14ms/step - loss: 0.0948 - val_loss: 0.2800\n",
      "Epoch 15/500\n",
      "5/5 [==============================] - 0s 12ms/step - loss: 0.0907 - val_loss: 0.2905\n",
      "Epoch 16/500\n",
      "5/5 [==============================] - 0s 11ms/step - loss: 0.0648 - val_loss: 0.3021\n",
      "Epoch 17/500\n",
      "5/5 [==============================] - 0s 14ms/step - loss: 0.0726 - val_loss: 0.3091\n",
      "Epoch 18/500\n",
      "5/5 [==============================] - 0s 11ms/step - loss: 0.0663 - val_loss: 0.3086\n",
      "Epoch 19/500\n",
      "5/5 [==============================] - 0s 12ms/step - loss: 0.0607 - val_loss: 0.3078\n",
      "Epoch 20/500\n",
      "5/5 [==============================] - 0s 16ms/step - loss: 0.0510 - val_loss: 0.3229\n",
      "Epoch 21/500\n",
      "5/5 [==============================] - 0s 11ms/step - loss: 0.0542 - val_loss: 0.3278\n",
      "Epoch 22/500\n",
      "5/5 [==============================] - 0s 14ms/step - loss: 0.0394 - val_loss: 0.3364\n",
      "Epoch 23/500\n",
      "5/5 [==============================] - 0s 11ms/step - loss: 0.0317 - val_loss: 0.3579\n",
      "Epoch 24/500\n",
      "5/5 [==============================] - 0s 17ms/step - loss: 0.0628 - val_loss: 0.3609\n",
      "Epoch 25/500\n",
      "5/5 [==============================] - 0s 12ms/step - loss: 0.0384 - val_loss: 0.3521\n",
      "Epoch 26/500\n",
      "5/5 [==============================] - 0s 12ms/step - loss: 0.0341 - val_loss: 0.3661\n",
      "Epoch 27/500\n",
      "5/5 [==============================] - 0s 17ms/step - loss: 0.0281 - val_loss: 0.3818\n",
      "Epoch 28/500\n",
      "5/5 [==============================] - 0s 14ms/step - loss: 0.0242 - val_loss: 0.3790\n",
      "Epoch 29/500\n",
      "5/5 [==============================] - 0s 14ms/step - loss: 0.0490 - val_loss: 0.3878\n",
      "Epoch 30/500\n",
      "5/5 [==============================] - 0s 14ms/step - loss: 0.0311 - val_loss: 0.3808\n",
      "Epoch 31/500\n",
      "5/5 [==============================] - 0s 12ms/step - loss: 0.0335 - val_loss: 0.3934\n",
      "Epoch 32/500\n",
      "5/5 [==============================] - 0s 14ms/step - loss: 0.0388 - val_loss: 0.4028\n",
      "Epoch 33/500\n",
      "5/5 [==============================] - 0s 11ms/step - loss: 0.0408 - val_loss: 0.3872\n",
      "Epoch 34/500\n",
      "5/5 [==============================] - 0s 14ms/step - loss: 0.0319 - val_loss: 0.3780\n",
      "Epoch 35/500\n",
      "5/5 [==============================] - 0s 12ms/step - loss: 0.0267 - val_loss: 0.3846\n",
      "Epoch 36/500\n",
      "5/5 [==============================] - 0s 13ms/step - loss: 0.0245 - val_loss: 0.3913\n"
     ]
    },
    {
     "data": {
      "text/plain": [
       "<tensorflow.python.keras.callbacks.History at 0x22be22cc850>"
      ]
     },
     "execution_count": 41,
     "metadata": {},
     "output_type": "execute_result"
    }
   ],
   "source": [
    "model.fit(x=X_train,y=y_train,batch_size=256,epochs=500,callbacks=early_stop,class_weight=class_weight,\n",
    "         validation_data=(X_test,y_test))"
   ]
  },
  {
   "cell_type": "code",
   "execution_count": 42,
   "id": "b7203d56",
   "metadata": {},
   "outputs": [
    {
     "data": {
      "text/plain": [
       "<AxesSubplot:>"
      ]
     },
     "execution_count": 42,
     "metadata": {},
     "output_type": "execute_result"
    },
    {
     "data": {
      "image/png": "[encoded data removed]",
      "text/plain": [
       "<Figure size 432x288 with 1 Axes>"
      ]
     },
     "metadata": {
      "needs_background": "light"
     },
     "output_type": "display_data"
    }
   ],
   "source": [
    "losses = pd.DataFrame(model.history.history)\n",
    "losses.plot()"
   ]
  },
  {
   "cell_type": "code",
   "execution_count": 43,
   "id": "5c11304c",
   "metadata": {},
   "outputs": [
    {
     "name": "stdout",
     "output_type": "stream",
     "text": [
      "              precision    recall  f1-score   support\n",
      "\n",
      "           0       0.75      0.67      0.71        49\n",
      "           1       0.94      0.96      0.95       248\n",
      "\n",
      "    accuracy                           0.91       297\n",
      "   macro avg       0.84      0.81      0.83       297\n",
      "weighted avg       0.91      0.91      0.91       297\n",
      "\n"
     ]
    }
   ],
   "source": [
    "y_hat = (model.predict(X_test)>0.5).astype('int32')\n",
    "print(classification_report(y_test,y_hat))"
   ]
  },
  {
   "cell_type": "code",
   "execution_count": 44,
   "id": "ed5b3516",
   "metadata": {},
   "outputs": [
    {
     "data": {
      "text/plain": [
       "array([[ 33,  16],\n",
       "       [ 11, 237]], dtype=int64)"
      ]
     },
     "execution_count": 44,
     "metadata": {},
     "output_type": "execute_result"
    }
   ],
   "source": [
    "confusion_matrix(y_test,y_hat)"
   ]
  },
  {
   "cell_type": "code",
   "execution_count": 45,
   "id": "fa1f7da9",
   "metadata": {},
   "outputs": [],
   "source": [
    "from sklearn.metrics import roc_curve, roc_auc_score"
   ]
  },
  {
   "cell_type": "code",
   "execution_count": 46,
   "id": "93c99fc9",
   "metadata": {},
   "outputs": [],
   "source": [
    "y_score = model.predict(X_test)"
   ]
  },
  {
   "cell_type": "code",
   "execution_count": 47,
   "id": "4252ea27",
   "metadata": {},
   "outputs": [],
   "source": [
    "fpr, tpr, th = roc_curve(y_test,y_score)"
   ]
  },
  {
   "cell_type": "code",
   "execution_count": 48,
   "id": "a5d4f29c",
   "metadata": {},
   "outputs": [
    {
     "data": {
      "image/png": "[encoded data removed]",
      "text/plain": [
       "<Figure size 720x720 with 1 Axes>"
      ]
     },
     "metadata": {
      "needs_background": "light"
     },
     "output_type": "display_data"
    }
   ],
   "source": [
    "plt.subplots(1, figsize=(10,10))\n",
    "plt.title('Receiver Operating Characteristic - ANN')\n",
    "plt.plot(fpr, tpr)\n",
    "plt.plot([0, 1], ls=\"--\")\n",
    "plt.plot([0, 0], [1, 0] , c=\".7\"), plt.plot([1, 1] , c=\".7\")\n",
    "plt.ylabel('True Positive Rate')\n",
    "plt.xlabel('False Positive Rate')\n",
    "plt.show()\n"
   ]
  },
  {
   "cell_type": "code",
   "execution_count": 49,
   "id": "233b39d6",
   "metadata": {},
   "outputs": [
    {
     "name": "stdout",
     "output_type": "stream",
     "text": [
      "AUC:  0.9313281764318632\n"
     ]
    }
   ],
   "source": [
    "print('AUC: ',roc_auc_score(y_test,y_score))"
   ]
  },
  {
   "cell_type": "markdown",
   "id": "f4aa52ea",
   "metadata": {},
   "source": [
    "# Conclusions\n",
    "The SVC showed the best predictive performance with an AUC of 0.94 and Accuracy of 0.92.\n",
    "Due to the imblanced class distribution (many more 'active' samples compared to 'inactive') accuracy alone is not a very good metric to measure classification performance. Simply classifying all samples as active would lead a decent accuracy score. Therefore, a better metric is the lowest number of false positives and false negatives. The support vector classifier had the lowest number of false positives at 13/352 compared to 22/352 and 16/352 for the Gradient Boosted Tree and Artificial Neural Network, respectively. However, these results are not statistically significant enough to determine the best classifier in this case."
   ]
  },
  {
   "cell_type": "code",
   "execution_count": null,
   "id": "60198b96",
   "metadata": {},
   "outputs": [],
   "source": []
  }
 ],
 "metadata": {
  "kernelspec": {
   "display_name": "Python 3",
   "language": "python",
   "name": "python3"
  },
  "language_info": {
   "codemirror_mode": {
    "name": "ipython",
    "version": 3
   },
   "file_extension": ".py",
   "mimetype": "text/x-python",
   "name": "python",
   "nbconvert_exporter": "python",
   "pygments_lexer": "ipython3",
   "version": "3.8.8"
  }
 },
 "nbformat": 4,
 "nbformat_minor": 5
}
