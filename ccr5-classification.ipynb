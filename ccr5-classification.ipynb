{
 "cells": [
  {
   "cell_type": "markdown",
   "id": "df8a4dec",
   "metadata": {},
   "source": [
    "## Goal: Develop a model to predict whether a molecule will be active/inactive towards CCR5 inhibition"
   ]
  },
  {
   "cell_type": "markdown",
   "id": "7fe553cc",
   "metadata": {},
   "source": [
    "## Evaluate 3 different classification algorithms:\n",
    "    1) Gradient Boosted Tree\n",
    "    2) Support Vector Classifier\n",
    "    3) Artificial Neural Network\n",
    "\n",
    "Evaluation metrics include: \n",
    "    ROC curve along with area under curve; \n",
    "    precision, recall, and f1-score (confusion matrix, classification report)"
   ]
  },
  {
   "cell_type": "code",
   "execution_count": 61,
   "id": "00e3110d",
   "metadata": {},
   "outputs": [],
   "source": [
    "import numpy as np\n",
    "import pandas as pd\n",
    "import matplotlib.pyplot as plt\n",
    "import seaborn as sns\n",
    "from rdkit import Chem, DataStructs\n",
    "from rdkit.Chem import Draw, Descriptors, AllChem, PandasTools, rdFingerprintGenerator\n",
    "from chembl_webresource_client.new_client import new_client\n",
    "from sklearn.ensemble import GradientBoostingClassifier\n",
    "from sklearn.svm import SVC\n",
    "from sklearn.model_selection import train_test_split, GridSearchCV\n",
    "from sklearn.metrics import confusion_matrix, classification_report, plot_roc_curve\n",
    "from sklearn.base import BaseEstimator, TransformerMixin\n",
    "\n",
    "from tensorflow.keras.models import Sequential\n",
    "from tensorflow.keras.layers import Dense, Dropout\n",
    "from tensorflow.keras.callbacks import EarlyStopping"
   ]
  },
  {
   "cell_type": "code",
   "execution_count": 6,
   "id": "162729d2",
   "metadata": {},
   "outputs": [],
   "source": [
    "chembl_id = 'CHEMBL274' #ccr5 chembl id"
   ]
  },
  {
   "cell_type": "code",
   "execution_count": 7,
   "id": "65f4725c",
   "metadata": {},
   "outputs": [],
   "source": [
    "activities_api = new_client.activity\n",
    "activities = activities_api.filter(target_chembl_id=chembl_id,type='IC50',relation='=',assay_type='B').only(\n",
    "    \"activity_id\",\n",
    "    \"assay_chembl_id\",\n",
    "    \"assay_description\",\n",
    "    \"assay_type\",\n",
    "    \"molecule_chembl_id\",\n",
    "    \"type\",\n",
    "    \"standard_units\",\n",
    "    \"relation\",\n",
    "    \"standard_value\",\n",
    "    \"target_chembl_id\",\n",
    "    \"target_organism\")"
   ]
  },
  {
   "cell_type": "code",
   "execution_count": 8,
   "id": "c3494643",
   "metadata": {},
   "outputs": [],
   "source": [
    "activities_df = pd.DataFrame.from_records(activities)"
   ]
  },
  {
   "cell_type": "code",
   "execution_count": 9,
   "id": "f60bfe36",
   "metadata": {},
   "outputs": [
    {
     "data": {
      "text/html": [
       "<div>\n",
       "<style scoped>\n",
       "    .dataframe tbody tr th:only-of-type {\n",
       "        vertical-align: middle;\n",
       "    }\n",
       "\n",
       "    .dataframe tbody tr th {\n",
       "        vertical-align: top;\n",
       "    }\n",
       "\n",
       "    .dataframe thead th {\n",
       "        text-align: right;\n",
       "    }\n",
       "</style>\n",
       "<table border=\"1\" class=\"dataframe\">\n",
       "  <thead>\n",
       "    <tr style=\"text-align: right;\">\n",
       "      <th></th>\n",
       "      <th>activity_id</th>\n",
       "      <th>assay_chembl_id</th>\n",
       "      <th>assay_description</th>\n",
       "      <th>assay_type</th>\n",
       "      <th>molecule_chembl_id</th>\n",
       "      <th>relation</th>\n",
       "      <th>standard_units</th>\n",
       "      <th>standard_value</th>\n",
       "      <th>target_chembl_id</th>\n",
       "      <th>target_organism</th>\n",
       "      <th>type</th>\n",
       "      <th>units</th>\n",
       "      <th>value</th>\n",
       "    </tr>\n",
       "  </thead>\n",
       "  <tbody>\n",
       "    <tr>\n",
       "      <th>0</th>\n",
       "      <td>75508</td>\n",
       "      <td>CHEMBL654653</td>\n",
       "      <td>Binding affinity against C-C chemokine recepto...</td>\n",
       "      <td>B</td>\n",
       "      <td>CHEMBL105460</td>\n",
       "      <td>=</td>\n",
       "      <td>nM</td>\n",
       "      <td>335.0</td>\n",
       "      <td>CHEMBL274</td>\n",
       "      <td>Homo sapiens</td>\n",
       "      <td>IC50</td>\n",
       "      <td>nM</td>\n",
       "      <td>335.0</td>\n",
       "    </tr>\n",
       "    <tr>\n",
       "      <th>1</th>\n",
       "      <td>75508</td>\n",
       "      <td>CHEMBL654653</td>\n",
       "      <td>Binding affinity against C-C chemokine recepto...</td>\n",
       "      <td>B</td>\n",
       "      <td>CHEMBL105460</td>\n",
       "      <td>=</td>\n",
       "      <td>nM</td>\n",
       "      <td>335.0</td>\n",
       "      <td>CHEMBL274</td>\n",
       "      <td>Homo sapiens</td>\n",
       "      <td>IC50</td>\n",
       "      <td>nM</td>\n",
       "      <td>335.0</td>\n",
       "    </tr>\n",
       "    <tr>\n",
       "      <th>2</th>\n",
       "      <td>75509</td>\n",
       "      <td>CHEMBL654653</td>\n",
       "      <td>Binding affinity against C-C chemokine recepto...</td>\n",
       "      <td>B</td>\n",
       "      <td>CHEMBL105606</td>\n",
       "      <td>=</td>\n",
       "      <td>nM</td>\n",
       "      <td>28.0</td>\n",
       "      <td>CHEMBL274</td>\n",
       "      <td>Homo sapiens</td>\n",
       "      <td>IC50</td>\n",
       "      <td>nM</td>\n",
       "      <td>28.0</td>\n",
       "    </tr>\n",
       "    <tr>\n",
       "      <th>3</th>\n",
       "      <td>75510</td>\n",
       "      <td>CHEMBL654653</td>\n",
       "      <td>Binding affinity against C-C chemokine recepto...</td>\n",
       "      <td>B</td>\n",
       "      <td>CHEMBL105570</td>\n",
       "      <td>=</td>\n",
       "      <td>nM</td>\n",
       "      <td>10.0</td>\n",
       "      <td>CHEMBL274</td>\n",
       "      <td>Homo sapiens</td>\n",
       "      <td>IC50</td>\n",
       "      <td>nM</td>\n",
       "      <td>10.0</td>\n",
       "    </tr>\n",
       "    <tr>\n",
       "      <th>4</th>\n",
       "      <td>76739</td>\n",
       "      <td>CHEMBL873385</td>\n",
       "      <td>Binding affinity against human CCR5 receptor s...</td>\n",
       "      <td>B</td>\n",
       "      <td>CHEMBL83338</td>\n",
       "      <td>=</td>\n",
       "      <td>nM</td>\n",
       "      <td>35.0</td>\n",
       "      <td>CHEMBL274</td>\n",
       "      <td>Homo sapiens</td>\n",
       "      <td>IC50</td>\n",
       "      <td>nM</td>\n",
       "      <td>35.0</td>\n",
       "    </tr>\n",
       "  </tbody>\n",
       "</table>\n",
       "</div>"
      ],
      "text/plain": [
       "   activity_id assay_chembl_id  \\\n",
       "0        75508    CHEMBL654653   \n",
       "1        75508    CHEMBL654653   \n",
       "2        75509    CHEMBL654653   \n",
       "3        75510    CHEMBL654653   \n",
       "4        76739    CHEMBL873385   \n",
       "\n",
       "                                   assay_description assay_type  \\\n",
       "0  Binding affinity against C-C chemokine recepto...          B   \n",
       "1  Binding affinity against C-C chemokine recepto...          B   \n",
       "2  Binding affinity against C-C chemokine recepto...          B   \n",
       "3  Binding affinity against C-C chemokine recepto...          B   \n",
       "4  Binding affinity against human CCR5 receptor s...          B   \n",
       "\n",
       "  molecule_chembl_id relation standard_units standard_value target_chembl_id  \\\n",
       "0       CHEMBL105460        =             nM          335.0        CHEMBL274   \n",
       "1       CHEMBL105460        =             nM          335.0        CHEMBL274   \n",
       "2       CHEMBL105606        =             nM           28.0        CHEMBL274   \n",
       "3       CHEMBL105570        =             nM           10.0        CHEMBL274   \n",
       "4        CHEMBL83338        =             nM           35.0        CHEMBL274   \n",
       "\n",
       "  target_organism  type units  value  \n",
       "0    Homo sapiens  IC50    nM  335.0  \n",
       "1    Homo sapiens  IC50    nM  335.0  \n",
       "2    Homo sapiens  IC50    nM   28.0  \n",
       "3    Homo sapiens  IC50    nM   10.0  \n",
       "4    Homo sapiens  IC50    nM   35.0  "
      ]
     },
     "execution_count": 9,
     "metadata": {},
     "output_type": "execute_result"
    }
   ],
   "source": [
    "activities_df.head()"
   ]
  },
  {
   "cell_type": "code",
   "execution_count": 10,
   "id": "76c31565",
   "metadata": {},
   "outputs": [],
   "source": [
    "act_df = activities_df.drop(['assay_description','assay_type','relation','units','value'],axis=1)"
   ]
  },
  {
   "cell_type": "code",
   "execution_count": 11,
   "id": "b1e25015",
   "metadata": {},
   "outputs": [
    {
     "name": "stdout",
     "output_type": "stream",
     "text": [
      "<class 'pandas.core.frame.DataFrame'>\n",
      "RangeIndex: 1757 entries, 0 to 1756\n",
      "Data columns (total 8 columns):\n",
      " #   Column              Non-Null Count  Dtype \n",
      "---  ------              --------------  ----- \n",
      " 0   activity_id         1757 non-null   int64 \n",
      " 1   assay_chembl_id     1757 non-null   object\n",
      " 2   molecule_chembl_id  1757 non-null   object\n",
      " 3   standard_units      1757 non-null   object\n",
      " 4   standard_value      1757 non-null   object\n",
      " 5   target_chembl_id    1757 non-null   object\n",
      " 6   target_organism     1757 non-null   object\n",
      " 7   type                1757 non-null   object\n",
      "dtypes: int64(1), object(7)\n",
      "memory usage: 109.9+ KB\n"
     ]
    }
   ],
   "source": [
    "act_df.info()"
   ]
  },
  {
   "cell_type": "code",
   "execution_count": 12,
   "id": "46f35d99",
   "metadata": {},
   "outputs": [],
   "source": [
    "act_df['standard_value'] = act_df['standard_value'].astype('float64')"
   ]
  },
  {
   "cell_type": "code",
   "execution_count": 13,
   "id": "90012ef6",
   "metadata": {},
   "outputs": [
    {
     "data": {
      "text/plain": [
       "activity_id           0\n",
       "assay_chembl_id       0\n",
       "molecule_chembl_id    0\n",
       "standard_units        0\n",
       "standard_value        0\n",
       "target_chembl_id      0\n",
       "target_organism       0\n",
       "type                  0\n",
       "dtype: int64"
      ]
     },
     "execution_count": 13,
     "metadata": {},
     "output_type": "execute_result"
    }
   ],
   "source": [
    "act_df.isnull().sum() #no null values"
   ]
  },
  {
   "cell_type": "code",
   "execution_count": 14,
   "id": "cc53903a",
   "metadata": {},
   "outputs": [
    {
     "data": {
      "text/plain": [
       "array(['nM'], dtype=object)"
      ]
     },
     "execution_count": 14,
     "metadata": {},
     "output_type": "execute_result"
    }
   ],
   "source": [
    "act_df['standard_units'].unique() #check units, all are in 'nM'"
   ]
  },
  {
   "cell_type": "code",
   "execution_count": 24,
   "id": "d73e7466",
   "metadata": {},
   "outputs": [],
   "source": [
    "act_df = act_df.drop_duplicates('molecule_chembl_id',keep='first')"
   ]
  },
  {
   "cell_type": "code",
   "execution_count": 26,
   "id": "fd6af4d3",
   "metadata": {},
   "outputs": [],
   "source": [
    "act_df = act_df.reset_index(drop=True)"
   ]
  },
  {
   "cell_type": "code",
   "execution_count": 15,
   "id": "0ec95e86",
   "metadata": {},
   "outputs": [],
   "source": [
    "# convert IC50 to pIC50\n",
    "act_df = act_df.rename(columns={'standard_value':'IC50'})\n",
    "act_df['pIC50'] = 9 - np.log10(act_df['IC50'])"
   ]
  },
  {
   "cell_type": "code",
   "execution_count": 17,
   "id": "b5ad9b2f",
   "metadata": {},
   "outputs": [],
   "source": [
    "act_df = act_df[['molecule_chembl_id','pIC50']] #only need chembl_id and pIC50 columns now"
   ]
  },
  {
   "cell_type": "code",
   "execution_count": 19,
   "id": "3f4de137",
   "metadata": {},
   "outputs": [],
   "source": [
    "#use chembl_ids to retrieve molecule structures from Chembl\n",
    "chembl_ids = act_df['molecule_chembl_id'].to_list()\n",
    "molecules = new_client.molecule\n",
    "mols = molecules.filter(molecule_chembl_id__in=chembl_ids).only('molecule_chembl_id','molecule_structures')\n",
    "mols = list(mols)"
   ]
  },
  {
   "cell_type": "code",
   "execution_count": 20,
   "id": "7c2fd996",
   "metadata": {},
   "outputs": [],
   "source": [
    "molecules = pd.DataFrame.from_records(mols)"
   ]
  },
  {
   "cell_type": "code",
   "execution_count": 21,
   "id": "439a8b48",
   "metadata": {},
   "outputs": [
    {
     "data": {
      "text/plain": [
       "0       {'canonical_smiles': 'CC(C)(C)c1ccc(C(O)CCCN2C...\n",
       "1       {'canonical_smiles': 'O=C(O)[C@@H](CC1CCC1)N1C...\n",
       "2       {'canonical_smiles': 'COP(=O)(CCC1CCN(C[C@H]2C...\n",
       "3       {'canonical_smiles': 'O=C(O)[C@@H](C1CCCCC1)N1...\n",
       "4       {'canonical_smiles': 'O=C(O)[C@@H](CC1CCC1)N1C...\n",
       "                              ...                        \n",
       "1480    {'canonical_smiles': 'Nc1nc2[nH]c(C3CC3)c(Cc3c...\n",
       "1481    {'canonical_smiles': 'CC(=O)C1=C(O)C(=O)N(c2cc...\n",
       "1482    {'canonical_smiles': 'CC(C)c1[nH]c2nc(N)nn2c(=...\n",
       "1483    {'canonical_smiles': 'CC(C)c1[nH]c2nc(N)nn2c(=...\n",
       "1484    {'canonical_smiles': 'CC(C)c1[nH]c2nc(N)nn2c(=...\n",
       "Name: molecule_structures, Length: 1485, dtype: object"
      ]
     },
     "execution_count": 21,
     "metadata": {},
     "output_type": "execute_result"
    }
   ],
   "source": [
    "molecules['molecule_structures']"
   ]
  },
  {
   "cell_type": "code",
   "execution_count": 22,
   "id": "bd864c52",
   "metadata": {},
   "outputs": [],
   "source": [
    "molecules['smiles'] = molecules['molecule_structures'].apply(lambda x: x.get('canonical_smiles',np.nan))\n",
    "molecules = molecules.drop('molecule_structures',axis=1)"
   ]
  },
  {
   "cell_type": "code",
   "execution_count": 23,
   "id": "7af4e735",
   "metadata": {},
   "outputs": [],
   "source": [
    "molecules = pd.merge(molecules,act_df[['molecule_chembl_id','pIC50']],on='molecule_chembl_id')"
   ]
  },
  {
   "cell_type": "code",
   "execution_count": 24,
   "id": "e3487ad0",
   "metadata": {},
   "outputs": [
    {
     "data": {
      "text/html": [
       "<div>\n",
       "<style scoped>\n",
       "    .dataframe tbody tr th:only-of-type {\n",
       "        vertical-align: middle;\n",
       "    }\n",
       "\n",
       "    .dataframe tbody tr th {\n",
       "        vertical-align: top;\n",
       "    }\n",
       "\n",
       "    .dataframe thead th {\n",
       "        text-align: right;\n",
       "    }\n",
       "</style>\n",
       "<table border=\"1\" class=\"dataframe\">\n",
       "  <thead>\n",
       "    <tr style=\"text-align: right;\">\n",
       "      <th></th>\n",
       "      <th>molecule_chembl_id</th>\n",
       "      <th>smiles</th>\n",
       "      <th>pIC50</th>\n",
       "    </tr>\n",
       "  </thead>\n",
       "  <tbody>\n",
       "    <tr>\n",
       "      <th>0</th>\n",
       "      <td>CHEMBL17157</td>\n",
       "      <td>CC(C)(C)c1ccc(C(O)CCCN2CCC(C(O)(c3ccccc3)c3ccc...</td>\n",
       "      <td>5.957424</td>\n",
       "    </tr>\n",
       "    <tr>\n",
       "      <th>1</th>\n",
       "      <td>CHEMBL20345</td>\n",
       "      <td>O=C(O)[C@@H](CC1CCC1)N1C[C@H](CN2CCC(CCSc3ccc(...</td>\n",
       "      <td>10.000000</td>\n",
       "    </tr>\n",
       "    <tr>\n",
       "      <th>2</th>\n",
       "      <td>CHEMBL20345</td>\n",
       "      <td>O=C(O)[C@@H](CC1CCC1)N1C[C@H](CN2CCC(CCSc3ccc(...</td>\n",
       "      <td>10.000000</td>\n",
       "    </tr>\n",
       "    <tr>\n",
       "      <th>3</th>\n",
       "      <td>CHEMBL20818</td>\n",
       "      <td>COP(=O)(CCC1CCN(C[C@H]2CN([C@H](CC3CC3)C(=O)O)...</td>\n",
       "      <td>7.721246</td>\n",
       "    </tr>\n",
       "    <tr>\n",
       "      <th>4</th>\n",
       "      <td>CHEMBL280344</td>\n",
       "      <td>O=C(O)[C@@H](C1CCCCC1)N1C[C@H](CN2CCC(CCS(=O)(...</td>\n",
       "      <td>8.958607</td>\n",
       "    </tr>\n",
       "    <tr>\n",
       "      <th>...</th>\n",
       "      <td>...</td>\n",
       "      <td>...</td>\n",
       "      <td>...</td>\n",
       "    </tr>\n",
       "    <tr>\n",
       "      <th>1752</th>\n",
       "      <td>CHEMBL4517518</td>\n",
       "      <td>Nc1nc2[nH]c(C3CC3)c(Cc3cccc(Cl)c3)c(=O)n2n1</td>\n",
       "      <td>3.243364</td>\n",
       "    </tr>\n",
       "    <tr>\n",
       "      <th>1753</th>\n",
       "      <td>CHEMBL4519152</td>\n",
       "      <td>CC(=O)C1=C(O)C(=O)N(c2ccc(Cl)cc2F)[C@@H]1C1CCCCC1</td>\n",
       "      <td>6.153045</td>\n",
       "    </tr>\n",
       "    <tr>\n",
       "      <th>1754</th>\n",
       "      <td>CHEMBL4531005</td>\n",
       "      <td>CC(C)c1[nH]c2nc(N)nn2c(=O)c1Cc1cccc(Cl)c1Cl</td>\n",
       "      <td>4.075721</td>\n",
       "    </tr>\n",
       "    <tr>\n",
       "      <th>1755</th>\n",
       "      <td>CHEMBL4544504</td>\n",
       "      <td>CC(C)c1[nH]c2nc(N)nn2c(=O)c1Cc1ccc(Cl)c(Br)c1</td>\n",
       "      <td>3.939302</td>\n",
       "    </tr>\n",
       "    <tr>\n",
       "      <th>1756</th>\n",
       "      <td>CHEMBL4548396</td>\n",
       "      <td>CC(C)c1[nH]c2nc(N)nn2c(=O)c1Cc1ccc(Cl)c(Cl)c1</td>\n",
       "      <td>3.879426</td>\n",
       "    </tr>\n",
       "  </tbody>\n",
       "</table>\n",
       "<p>1757 rows × 3 columns</p>\n",
       "</div>"
      ],
      "text/plain": [
       "     molecule_chembl_id                                             smiles  \\\n",
       "0           CHEMBL17157  CC(C)(C)c1ccc(C(O)CCCN2CCC(C(O)(c3ccccc3)c3ccc...   \n",
       "1           CHEMBL20345  O=C(O)[C@@H](CC1CCC1)N1C[C@H](CN2CCC(CCSc3ccc(...   \n",
       "2           CHEMBL20345  O=C(O)[C@@H](CC1CCC1)N1C[C@H](CN2CCC(CCSc3ccc(...   \n",
       "3           CHEMBL20818  COP(=O)(CCC1CCN(C[C@H]2CN([C@H](CC3CC3)C(=O)O)...   \n",
       "4          CHEMBL280344  O=C(O)[C@@H](C1CCCCC1)N1C[C@H](CN2CCC(CCS(=O)(...   \n",
       "...                 ...                                                ...   \n",
       "1752      CHEMBL4517518        Nc1nc2[nH]c(C3CC3)c(Cc3cccc(Cl)c3)c(=O)n2n1   \n",
       "1753      CHEMBL4519152  CC(=O)C1=C(O)C(=O)N(c2ccc(Cl)cc2F)[C@@H]1C1CCCCC1   \n",
       "1754      CHEMBL4531005        CC(C)c1[nH]c2nc(N)nn2c(=O)c1Cc1cccc(Cl)c1Cl   \n",
       "1755      CHEMBL4544504      CC(C)c1[nH]c2nc(N)nn2c(=O)c1Cc1ccc(Cl)c(Br)c1   \n",
       "1756      CHEMBL4548396      CC(C)c1[nH]c2nc(N)nn2c(=O)c1Cc1ccc(Cl)c(Cl)c1   \n",
       "\n",
       "          pIC50  \n",
       "0      5.957424  \n",
       "1     10.000000  \n",
       "2     10.000000  \n",
       "3      7.721246  \n",
       "4      8.958607  \n",
       "...         ...  \n",
       "1752   3.243364  \n",
       "1753   6.153045  \n",
       "1754   4.075721  \n",
       "1755   3.939302  \n",
       "1756   3.879426  \n",
       "\n",
       "[1757 rows x 3 columns]"
      ]
     },
     "execution_count": 24,
     "metadata": {},
     "output_type": "execute_result"
    }
   ],
   "source": [
    "molecules"
   ]
  },
  {
   "cell_type": "code",
   "execution_count": 173,
   "id": "d321801c",
   "metadata": {},
   "outputs": [],
   "source": [
    "class FingerPrinter(BaseEstimator,TransformerMixin):\n",
    "    \n",
    "    def __init__(self,gen_method='morgan',radius=3):\n",
    "        self.radius = radius\n",
    "        self.gen = self.get_gen_method(gen_method)\n",
    "    \n",
    "    def fit(self,X,y=None):\n",
    "        return self\n",
    "    \n",
    "    def transform(self,X):\n",
    "        mols = [Chem.MolFromSmiles(row.smiles) for _,row in X.iterrows()]\n",
    "        #gen = rdFingerprintGenerator.GetMorganGenerator(self.radius)\n",
    "        fps = [np.array(self.gen.GetFingerprint(mol)) for mol in mols]\n",
    "        return fps\n",
    "    \n",
    "    def get_gen_method(self,gen_method):\n",
    "        if gen_method.lower() == 'morgan':\n",
    "            return rdFingerprintGenerator.GetMorganGenerator(self.radius)\n",
    "        elif gen_method.lower() == 'atom_pair':\n",
    "            return rdFingerprintGenerator.GetAtomPairGenerator()\n",
    "        elif gen_method.lower() == 'rdfp':\n",
    "            return rdFingerprintGenerator.GetRDKitFPGenerator()\n",
    "        else:\n",
    "            print('Invalid method selected. None returned')\n",
    "            return None"
   ]
  },
  {
   "cell_type": "code",
   "execution_count": 174,
   "id": "6e3c5c21",
   "metadata": {},
   "outputs": [],
   "source": [
    "fpr = FingerPrinter()\n",
    "molecules['fp'] = fpr.fit_transform(molecules)"
   ]
  },
  {
   "cell_type": "code",
   "execution_count": 175,
   "id": "88ebe56b",
   "metadata": {},
   "outputs": [
    {
     "data": {
      "text/html": [
       "<div>\n",
       "<style scoped>\n",
       "    .dataframe tbody tr th:only-of-type {\n",
       "        vertical-align: middle;\n",
       "    }\n",
       "\n",
       "    .dataframe tbody tr th {\n",
       "        vertical-align: top;\n",
       "    }\n",
       "\n",
       "    .dataframe thead th {\n",
       "        text-align: right;\n",
       "    }\n",
       "</style>\n",
       "<table border=\"1\" class=\"dataframe\">\n",
       "  <thead>\n",
       "    <tr style=\"text-align: right;\">\n",
       "      <th></th>\n",
       "      <th>molecule_chembl_id</th>\n",
       "      <th>smiles</th>\n",
       "      <th>pIC50</th>\n",
       "      <th>fp</th>\n",
       "      <th>active</th>\n",
       "    </tr>\n",
       "  </thead>\n",
       "  <tbody>\n",
       "    <tr>\n",
       "      <th>0</th>\n",
       "      <td>CHEMBL17157</td>\n",
       "      <td>CC(C)(C)c1ccc(C(O)CCCN2CCC(C(O)(c3ccccc3)c3ccc...</td>\n",
       "      <td>5.957424</td>\n",
       "      <td>[0, 1, 0, 0, 0, 0, 0, 0, 0, 0, 0, 0, 0, 0, 0, ...</td>\n",
       "      <td>0</td>\n",
       "    </tr>\n",
       "    <tr>\n",
       "      <th>1</th>\n",
       "      <td>CHEMBL20345</td>\n",
       "      <td>O=C(O)[C@@H](CC1CCC1)N1C[C@H](CN2CCC(CCSc3ccc(...</td>\n",
       "      <td>10.000000</td>\n",
       "      <td>[0, 1, 0, 0, 0, 0, 0, 0, 0, 0, 0, 0, 0, 1, 0, ...</td>\n",
       "      <td>1</td>\n",
       "    </tr>\n",
       "    <tr>\n",
       "      <th>2</th>\n",
       "      <td>CHEMBL20345</td>\n",
       "      <td>O=C(O)[C@@H](CC1CCC1)N1C[C@H](CN2CCC(CCSc3ccc(...</td>\n",
       "      <td>10.000000</td>\n",
       "      <td>[0, 1, 0, 0, 0, 0, 0, 0, 0, 0, 0, 0, 0, 1, 0, ...</td>\n",
       "      <td>1</td>\n",
       "    </tr>\n",
       "    <tr>\n",
       "      <th>3</th>\n",
       "      <td>CHEMBL20818</td>\n",
       "      <td>COP(=O)(CCC1CCN(C[C@H]2CN([C@H](CC3CC3)C(=O)O)...</td>\n",
       "      <td>7.721246</td>\n",
       "      <td>[0, 1, 0, 0, 0, 0, 0, 0, 0, 0, 0, 0, 0, 0, 0, ...</td>\n",
       "      <td>1</td>\n",
       "    </tr>\n",
       "    <tr>\n",
       "      <th>4</th>\n",
       "      <td>CHEMBL280344</td>\n",
       "      <td>O=C(O)[C@@H](C1CCCCC1)N1C[C@H](CN2CCC(CCS(=O)(...</td>\n",
       "      <td>8.958607</td>\n",
       "      <td>[0, 1, 1, 0, 0, 0, 0, 0, 0, 0, 0, 0, 0, 0, 0, ...</td>\n",
       "      <td>1</td>\n",
       "    </tr>\n",
       "    <tr>\n",
       "      <th>...</th>\n",
       "      <td>...</td>\n",
       "      <td>...</td>\n",
       "      <td>...</td>\n",
       "      <td>...</td>\n",
       "      <td>...</td>\n",
       "    </tr>\n",
       "    <tr>\n",
       "      <th>1752</th>\n",
       "      <td>CHEMBL4517518</td>\n",
       "      <td>Nc1nc2[nH]c(C3CC3)c(Cc3cccc(Cl)c3)c(=O)n2n1</td>\n",
       "      <td>3.243364</td>\n",
       "      <td>[0, 0, 0, 0, 0, 0, 0, 0, 0, 0, 0, 0, 0, 0, 0, ...</td>\n",
       "      <td>0</td>\n",
       "    </tr>\n",
       "    <tr>\n",
       "      <th>1753</th>\n",
       "      <td>CHEMBL4519152</td>\n",
       "      <td>CC(=O)C1=C(O)C(=O)N(c2ccc(Cl)cc2F)[C@@H]1C1CCCCC1</td>\n",
       "      <td>6.153045</td>\n",
       "      <td>[0, 0, 1, 0, 0, 0, 0, 0, 0, 0, 0, 0, 0, 0, 0, ...</td>\n",
       "      <td>0</td>\n",
       "    </tr>\n",
       "    <tr>\n",
       "      <th>1754</th>\n",
       "      <td>CHEMBL4531005</td>\n",
       "      <td>CC(C)c1[nH]c2nc(N)nn2c(=O)c1Cc1cccc(Cl)c1Cl</td>\n",
       "      <td>4.075721</td>\n",
       "      <td>[0, 1, 0, 0, 0, 0, 0, 0, 0, 0, 0, 0, 0, 0, 0, ...</td>\n",
       "      <td>0</td>\n",
       "    </tr>\n",
       "    <tr>\n",
       "      <th>1755</th>\n",
       "      <td>CHEMBL4544504</td>\n",
       "      <td>CC(C)c1[nH]c2nc(N)nn2c(=O)c1Cc1ccc(Cl)c(Br)c1</td>\n",
       "      <td>3.939302</td>\n",
       "      <td>[0, 1, 0, 0, 0, 0, 0, 0, 0, 0, 0, 0, 0, 0, 0, ...</td>\n",
       "      <td>0</td>\n",
       "    </tr>\n",
       "    <tr>\n",
       "      <th>1756</th>\n",
       "      <td>CHEMBL4548396</td>\n",
       "      <td>CC(C)c1[nH]c2nc(N)nn2c(=O)c1Cc1ccc(Cl)c(Cl)c1</td>\n",
       "      <td>3.879426</td>\n",
       "      <td>[0, 1, 0, 0, 0, 0, 0, 0, 0, 0, 0, 0, 0, 0, 0, ...</td>\n",
       "      <td>0</td>\n",
       "    </tr>\n",
       "  </tbody>\n",
       "</table>\n",
       "<p>1757 rows × 5 columns</p>\n",
       "</div>"
      ],
      "text/plain": [
       "     molecule_chembl_id                                             smiles  \\\n",
       "0           CHEMBL17157  CC(C)(C)c1ccc(C(O)CCCN2CCC(C(O)(c3ccccc3)c3ccc...   \n",
       "1           CHEMBL20345  O=C(O)[C@@H](CC1CCC1)N1C[C@H](CN2CCC(CCSc3ccc(...   \n",
       "2           CHEMBL20345  O=C(O)[C@@H](CC1CCC1)N1C[C@H](CN2CCC(CCSc3ccc(...   \n",
       "3           CHEMBL20818  COP(=O)(CCC1CCN(C[C@H]2CN([C@H](CC3CC3)C(=O)O)...   \n",
       "4          CHEMBL280344  O=C(O)[C@@H](C1CCCCC1)N1C[C@H](CN2CCC(CCS(=O)(...   \n",
       "...                 ...                                                ...   \n",
       "1752      CHEMBL4517518        Nc1nc2[nH]c(C3CC3)c(Cc3cccc(Cl)c3)c(=O)n2n1   \n",
       "1753      CHEMBL4519152  CC(=O)C1=C(O)C(=O)N(c2ccc(Cl)cc2F)[C@@H]1C1CCCCC1   \n",
       "1754      CHEMBL4531005        CC(C)c1[nH]c2nc(N)nn2c(=O)c1Cc1cccc(Cl)c1Cl   \n",
       "1755      CHEMBL4544504      CC(C)c1[nH]c2nc(N)nn2c(=O)c1Cc1ccc(Cl)c(Br)c1   \n",
       "1756      CHEMBL4548396      CC(C)c1[nH]c2nc(N)nn2c(=O)c1Cc1ccc(Cl)c(Cl)c1   \n",
       "\n",
       "          pIC50                                                 fp  active  \n",
       "0      5.957424  [0, 1, 0, 0, 0, 0, 0, 0, 0, 0, 0, 0, 0, 0, 0, ...       0  \n",
       "1     10.000000  [0, 1, 0, 0, 0, 0, 0, 0, 0, 0, 0, 0, 0, 1, 0, ...       1  \n",
       "2     10.000000  [0, 1, 0, 0, 0, 0, 0, 0, 0, 0, 0, 0, 0, 1, 0, ...       1  \n",
       "3      7.721246  [0, 1, 0, 0, 0, 0, 0, 0, 0, 0, 0, 0, 0, 0, 0, ...       1  \n",
       "4      8.958607  [0, 1, 1, 0, 0, 0, 0, 0, 0, 0, 0, 0, 0, 0, 0, ...       1  \n",
       "...         ...                                                ...     ...  \n",
       "1752   3.243364  [0, 0, 0, 0, 0, 0, 0, 0, 0, 0, 0, 0, 0, 0, 0, ...       0  \n",
       "1753   6.153045  [0, 0, 1, 0, 0, 0, 0, 0, 0, 0, 0, 0, 0, 0, 0, ...       0  \n",
       "1754   4.075721  [0, 1, 0, 0, 0, 0, 0, 0, 0, 0, 0, 0, 0, 0, 0, ...       0  \n",
       "1755   3.939302  [0, 1, 0, 0, 0, 0, 0, 0, 0, 0, 0, 0, 0, 0, 0, ...       0  \n",
       "1756   3.879426  [0, 1, 0, 0, 0, 0, 0, 0, 0, 0, 0, 0, 0, 0, 0, ...       0  \n",
       "\n",
       "[1757 rows x 5 columns]"
      ]
     },
     "execution_count": 175,
     "metadata": {},
     "output_type": "execute_result"
    }
   ],
   "source": [
    "molecules['active'] = (molecules['pIC50']>6.3).astype('int32')\n",
    "molecules"
   ]
  },
  {
   "cell_type": "code",
   "execution_count": 41,
   "id": "1c6ef963",
   "metadata": {},
   "outputs": [
    {
     "data": {
      "text/plain": [
       "<AxesSubplot:xlabel='active', ylabel='count'>"
      ]
     },
     "execution_count": 41,
     "metadata": {},
     "output_type": "execute_result"
    },
    {
     "data": {
      "image/png": "[encoded data removed]",
      "text/plain": [
       "<Figure size 432x288 with 1 Axes>"
      ]
     },
     "metadata": {
      "needs_background": "light"
     },
     "output_type": "display_data"
    }
   ],
   "source": [
    "sns.countplot(data=molecules,x='active') \n",
    "#imbalanced class distribution - will need to account for this with certain ML algorithms (i.e. SVC, ANN)"
   ]
  },
  {
   "cell_type": "code",
   "execution_count": 143,
   "id": "ade9ea45",
   "metadata": {},
   "outputs": [],
   "source": [
    "X = molecules['fp'].to_list()\n",
    "y = molecules['active'].values\n",
    "X = np.array(X)"
   ]
  },
  {
   "cell_type": "code",
   "execution_count": 144,
   "id": "293116ed",
   "metadata": {},
   "outputs": [],
   "source": [
    "X_train, X_test, y_train, y_test = train_test_split(X, y, test_size=0.2)"
   ]
  },
  {
   "cell_type": "code",
   "execution_count": 145,
   "id": "5732deec",
   "metadata": {},
   "outputs": [
    {
     "data": {
      "text/plain": [
       "GridSearchCV(cv=10, estimator=GradientBoostingClassifier(),\n",
       "             param_grid={'max_depth': [3, 4, 5, 6],\n",
       "                         'n_estimators': [10, 25, 50, 100, 200]})"
      ]
     },
     "execution_count": 145,
     "metadata": {},
     "output_type": "execute_result"
    }
   ],
   "source": [
    "gbc = GradientBoostingClassifier()\n",
    "params = {'n_estimators':[10,25,50,100,200],'max_depth':[3,4,5,6]}\n",
    "grid_clf = GridSearchCV(estimator=gbc, param_grid=params, cv=10)\n",
    "grid_clf.fit(X_train,y_train)"
   ]
  },
  {
   "cell_type": "code",
   "execution_count": 146,
   "id": "1fb53732",
   "metadata": {},
   "outputs": [
    {
     "data": {
      "text/plain": [
       "{'max_depth': 5, 'n_estimators': 50}"
      ]
     },
     "execution_count": 146,
     "metadata": {},
     "output_type": "execute_result"
    }
   ],
   "source": [
    "grid_clf.best_params_"
   ]
  },
  {
   "cell_type": "code",
   "execution_count": 147,
   "id": "da9008bc",
   "metadata": {},
   "outputs": [
    {
     "data": {
      "text/plain": [
       "<sklearn.metrics._plot.roc_curve.RocCurveDisplay at 0x1efcdce3970>"
      ]
     },
     "execution_count": 147,
     "metadata": {},
     "output_type": "execute_result"
    },
    {
     "data": {
      "image/png": "[encoded data removed]",
      "text/plain": [
       "<Figure size 432x288 with 1 Axes>"
      ]
     },
     "metadata": {
      "needs_background": "light"
     },
     "output_type": "display_data"
    }
   ],
   "source": [
    "plot_roc_curve(grid_clf,X_test,y_test)"
   ]
  },
  {
   "cell_type": "code",
   "execution_count": 148,
   "id": "9565cebb",
   "metadata": {},
   "outputs": [
    {
     "name": "stdout",
     "output_type": "stream",
     "text": [
      "              precision    recall  f1-score   support\n",
      "\n",
      "           0       0.80      0.64      0.71        61\n",
      "           1       0.93      0.97      0.95       291\n",
      "\n",
      "    accuracy                           0.91       352\n",
      "   macro avg       0.86      0.80      0.83       352\n",
      "weighted avg       0.90      0.91      0.91       352\n",
      "\n"
     ]
    }
   ],
   "source": [
    "y_hat = grid_clf.predict(X_test)\n",
    "print(classification_report(y_test,y_hat))"
   ]
  },
  {
   "cell_type": "code",
   "execution_count": 149,
   "id": "fb222400",
   "metadata": {},
   "outputs": [
    {
     "data": {
      "text/plain": [
       "array([[ 39,  22],\n",
       "       [ 10, 281]], dtype=int64)"
      ]
     },
     "execution_count": 149,
     "metadata": {},
     "output_type": "execute_result"
    }
   ],
   "source": [
    "confusion_matrix(y_test,y_hat)"
   ]
  },
  {
   "cell_type": "markdown",
   "id": "afb68478",
   "metadata": {},
   "source": [
    "Support Vector Classifier"
   ]
  },
  {
   "cell_type": "code",
   "execution_count": 138,
   "id": "a0046df8",
   "metadata": {},
   "outputs": [
    {
     "data": {
      "text/plain": [
       "GridSearchCV(cv=10, estimator=SVC(class_weight='balanced', probability=True),\n",
       "             param_grid={'C': [0.01, 0.1, 1, 10], 'kernel': ['linear', 'rbf']})"
      ]
     },
     "execution_count": 138,
     "metadata": {},
     "output_type": "execute_result"
    }
   ],
   "source": [
    "svc = SVC(class_weight='balanced',probability=True)\n",
    "params = {'kernel':['linear','rbf'],'C':[0.01,0.1,1,10]}\n",
    "grid_svc = GridSearchCV(estimator=svc,param_grid=params,cv=10)\n",
    "grid_svc.fit(X_train,y_train)"
   ]
  },
  {
   "cell_type": "code",
   "execution_count": 139,
   "id": "064b5a65",
   "metadata": {},
   "outputs": [
    {
     "data": {
      "text/plain": [
       "{'C': 10, 'kernel': 'rbf'}"
      ]
     },
     "execution_count": 139,
     "metadata": {},
     "output_type": "execute_result"
    }
   ],
   "source": [
    "grid_svc.best_params_"
   ]
  },
  {
   "cell_type": "code",
   "execution_count": 140,
   "id": "cdc205e2",
   "metadata": {},
   "outputs": [
    {
     "data": {
      "text/plain": [
       "<sklearn.metrics._plot.roc_curve.RocCurveDisplay at 0x1efcda2eb50>"
      ]
     },
     "execution_count": 140,
     "metadata": {},
     "output_type": "execute_result"
    },
    {
     "data": {
      "image/png": "[encoded data removed]",
      "text/plain": [
       "<Figure size 432x288 with 1 Axes>"
      ]
     },
     "metadata": {
      "needs_background": "light"
     },
     "output_type": "display_data"
    }
   ],
   "source": [
    "plot_roc_curve(grid_svc,X_test,y_test)"
   ]
  },
  {
   "cell_type": "code",
   "execution_count": 141,
   "id": "7d78347c",
   "metadata": {},
   "outputs": [
    {
     "name": "stdout",
     "output_type": "stream",
     "text": [
      "              precision    recall  f1-score   support\n",
      "\n",
      "           0       0.73      0.76      0.75        54\n",
      "           1       0.96      0.95      0.95       298\n",
      "\n",
      "    accuracy                           0.92       352\n",
      "   macro avg       0.84      0.85      0.85       352\n",
      "weighted avg       0.92      0.92      0.92       352\n",
      "\n"
     ]
    }
   ],
   "source": [
    "y_hat = grid_svc.predict(X_test)\n",
    "print(classification_report(y_test,y_hat))"
   ]
  },
  {
   "cell_type": "code",
   "execution_count": 142,
   "id": "3362d573",
   "metadata": {},
   "outputs": [
    {
     "data": {
      "text/plain": [
       "array([[ 41,  13],\n",
       "       [ 15, 283]], dtype=int64)"
      ]
     },
     "execution_count": 142,
     "metadata": {},
     "output_type": "execute_result"
    }
   ],
   "source": [
    "confusion_matrix(y_test,y_hat)"
   ]
  },
  {
   "cell_type": "markdown",
   "id": "29ca3f5f",
   "metadata": {},
   "source": [
    "Artificial Neural Network"
   ]
  },
  {
   "cell_type": "code",
   "execution_count": 115,
   "id": "6aa6d353",
   "metadata": {},
   "outputs": [],
   "source": [
    "X = molecules['fp'].to_list()\n",
    "y = molecules['active'].values\n",
    "X = np.array(X)\n",
    "X_train, X_test, y_train, y_test = train_test_split(X, y, test_size=0.2)"
   ]
  },
  {
   "cell_type": "code",
   "execution_count": 68,
   "id": "1e236f3d",
   "metadata": {},
   "outputs": [
    {
     "name": "stdout",
     "output_type": "stream",
     "text": [
      "#pos = 1455\n",
      "#neg = 302\n",
      "total = 1757\n"
     ]
    }
   ],
   "source": [
    "pos = np.sum(y==1)\n",
    "neg = np.sum(y==0)\n",
    "total = len(y)\n",
    "wgt_0 = (1/neg) * (total/2.0)\n",
    "wgt_1 = (1/pos) * (total/2.0)\n",
    "class_weight = {0:wgt_0, 1:wgt_1}\n",
    "print(f'#pos = {pos}\\n#neg = {neg}\\ntotal = {total}')"
   ]
  },
  {
   "cell_type": "code",
   "execution_count": 160,
   "id": "c3c6eee1",
   "metadata": {},
   "outputs": [],
   "source": [
    "early_stop = EarlyStopping(monitor='val_loss', patience=25, mode='min')"
   ]
  },
  {
   "cell_type": "code",
   "execution_count": 161,
   "id": "a6cd18e0",
   "metadata": {},
   "outputs": [],
   "source": [
    "model = Sequential()\n",
    "model.add(Dense(256,activation='relu'))\n",
    "model.add(Dropout(0.5))\n",
    "model.add(Dense(256,activation='relu'))\n",
    "model.add(Dropout(0.5))\n",
    "model.add(Dense(128,activation='relu'))\n",
    "model.add(Dropout(0.5))\n",
    "model.add(Dense(1,activation='sigmoid'))\n",
    "model.compile(loss='binary_crossentropy',optimizer='adam')"
   ]
  },
  {
   "cell_type": "code",
   "execution_count": 162,
   "id": "ae047ff2",
   "metadata": {},
   "outputs": [
    {
     "name": "stdout",
     "output_type": "stream",
     "text": [
      "Epoch 1/500\n",
      "6/6 [==============================] - 0s 27ms/step - loss: 0.6570 - val_loss: 0.5316\n",
      "Epoch 2/500\n",
      "6/6 [==============================] - 0s 12ms/step - loss: 0.5642 - val_loss: 0.4335\n",
      "Epoch 3/500\n",
      "6/6 [==============================] - 0s 14ms/step - loss: 0.4545 - val_loss: 0.4228\n",
      "Epoch 4/500\n",
      "6/6 [==============================] - 0s 14ms/step - loss: 0.3659 - val_loss: 0.3695\n",
      "Epoch 5/500\n",
      "6/6 [==============================] - 0s 14ms/step - loss: 0.3155 - val_loss: 0.3799\n",
      "Epoch 6/500\n",
      "6/6 [==============================] - 0s 11ms/step - loss: 0.2588 - val_loss: 0.3116\n",
      "Epoch 7/500\n",
      "6/6 [==============================] - 0s 14ms/step - loss: 0.2249 - val_loss: 0.3103\n",
      "Epoch 8/500\n",
      "6/6 [==============================] - 0s 14ms/step - loss: 0.1791 - val_loss: 0.3060\n",
      "Epoch 9/500\n",
      "6/6 [==============================] - 0s 14ms/step - loss: 0.1706 - val_loss: 0.3258\n",
      "Epoch 10/500\n",
      "6/6 [==============================] - 0s 12ms/step - loss: 0.1581 - val_loss: 0.3459\n",
      "Epoch 11/500\n",
      "6/6 [==============================] - 0s 14ms/step - loss: 0.1338 - val_loss: 0.3380\n",
      "Epoch 12/500\n",
      "6/6 [==============================] - 0s 10ms/step - loss: 0.0993 - val_loss: 0.3540\n",
      "Epoch 13/500\n",
      "6/6 [==============================] - 0s 10ms/step - loss: 0.1035 - val_loss: 0.3814\n",
      "Epoch 14/500\n",
      "6/6 [==============================] - 0s 14ms/step - loss: 0.0835 - val_loss: 0.3852\n",
      "Epoch 15/500\n",
      "6/6 [==============================] - 0s 12ms/step - loss: 0.0806 - val_loss: 0.3990\n",
      "Epoch 16/500\n",
      "6/6 [==============================] - 0s 12ms/step - loss: 0.0902 - val_loss: 0.4243\n",
      "Epoch 17/500\n",
      "6/6 [==============================] - 0s 12ms/step - loss: 0.0726 - val_loss: 0.4125\n",
      "Epoch 18/500\n",
      "6/6 [==============================] - 0s 11ms/step - loss: 0.0635 - val_loss: 0.4323\n",
      "Epoch 19/500\n",
      "6/6 [==============================] - 0s 14ms/step - loss: 0.0812 - val_loss: 0.4391\n",
      "Epoch 20/500\n",
      "6/6 [==============================] - 0s 13ms/step - loss: 0.0688 - val_loss: 0.4424\n",
      "Epoch 21/500\n",
      "6/6 [==============================] - ETA: 0s - loss: 0.043 - 0s 10ms/step - loss: 0.0512 - val_loss: 0.4503\n",
      "Epoch 22/500\n",
      "6/6 [==============================] - 0s 14ms/step - loss: 0.0518 - val_loss: 0.4605\n",
      "Epoch 23/500\n",
      "6/6 [==============================] - 0s 12ms/step - loss: 0.0484 - val_loss: 0.4623\n",
      "Epoch 24/500\n",
      "6/6 [==============================] - 0s 12ms/step - loss: 0.0503 - val_loss: 0.4660\n",
      "Epoch 25/500\n",
      "6/6 [==============================] - 0s 14ms/step - loss: 0.0476 - val_loss: 0.4806\n",
      "Epoch 26/500\n",
      "6/6 [==============================] - 0s 14ms/step - loss: 0.0445 - val_loss: 0.4900\n",
      "Epoch 27/500\n",
      "6/6 [==============================] - 0s 12ms/step - loss: 0.0325 - val_loss: 0.4783\n",
      "Epoch 28/500\n",
      "6/6 [==============================] - 0s 14ms/step - loss: 0.0324 - val_loss: 0.4832\n",
      "Epoch 29/500\n",
      "6/6 [==============================] - 0s 14ms/step - loss: 0.0364 - val_loss: 0.5099\n",
      "Epoch 30/500\n",
      "6/6 [==============================] - 0s 10ms/step - loss: 0.0342 - val_loss: 0.5474\n",
      "Epoch 31/500\n",
      "6/6 [==============================] - 0s 10ms/step - loss: 0.0384 - val_loss: 0.5509\n",
      "Epoch 32/500\n",
      "6/6 [==============================] - 0s 14ms/step - loss: 0.0460 - val_loss: 0.5306\n",
      "Epoch 33/500\n",
      "6/6 [==============================] - 0s 14ms/step - loss: 0.0297 - val_loss: 0.5279\n"
     ]
    },
    {
     "data": {
      "text/plain": [
       "<tensorflow.python.keras.callbacks.History at 0x1efc2889310>"
      ]
     },
     "execution_count": 162,
     "metadata": {},
     "output_type": "execute_result"
    }
   ],
   "source": [
    "model.fit(x=X_train,y=y_train,batch_size=256,epochs=500,callbacks=early_stop,class_weight=class_weight,\n",
    "         validation_data=(X_test,y_test))"
   ]
  },
  {
   "cell_type": "code",
   "execution_count": 163,
   "id": "b7203d56",
   "metadata": {},
   "outputs": [
    {
     "data": {
      "text/plain": [
       "<AxesSubplot:>"
      ]
     },
     "execution_count": 163,
     "metadata": {},
     "output_type": "execute_result"
    },
    {
     "data": {
      "image/png": "[encoded data removed]",
      "text/plain": [
       "<Figure size 432x288 with 1 Axes>"
      ]
     },
     "metadata": {
      "needs_background": "light"
     },
     "output_type": "display_data"
    }
   ],
   "source": [
    "losses = pd.DataFrame(model.history.history)\n",
    "losses.plot()"
   ]
  },
  {
   "cell_type": "code",
   "execution_count": 164,
   "id": "5c11304c",
   "metadata": {},
   "outputs": [
    {
     "name": "stdout",
     "output_type": "stream",
     "text": [
      "              precision    recall  f1-score   support\n",
      "\n",
      "           0       0.69      0.70      0.70        61\n",
      "           1       0.94      0.93      0.94       291\n",
      "\n",
      "    accuracy                           0.89       352\n",
      "   macro avg       0.82      0.82      0.82       352\n",
      "weighted avg       0.90      0.89      0.90       352\n",
      "\n"
     ]
    }
   ],
   "source": [
    "y_hat = (model.predict(X_test)>0.5).astype('int32')\n",
    "print(classification_report(y_test,y_hat))"
   ]
  },
  {
   "cell_type": "code",
   "execution_count": 165,
   "id": "ed5b3516",
   "metadata": {},
   "outputs": [
    {
     "data": {
      "text/plain": [
       "array([[ 43,  18],\n",
       "       [ 19, 272]], dtype=int64)"
      ]
     },
     "execution_count": 165,
     "metadata": {},
     "output_type": "execute_result"
    }
   ],
   "source": [
    "confusion_matrix(y_test,y_hat)"
   ]
  },
  {
   "cell_type": "code",
   "execution_count": 166,
   "id": "fa1f7da9",
   "metadata": {},
   "outputs": [],
   "source": [
    "from sklearn.metrics import roc_curve, roc_auc_score"
   ]
  },
  {
   "cell_type": "code",
   "execution_count": 167,
   "id": "93c99fc9",
   "metadata": {},
   "outputs": [],
   "source": [
    "y_score = model.predict(X_test)"
   ]
  },
  {
   "cell_type": "code",
   "execution_count": 168,
   "id": "4252ea27",
   "metadata": {},
   "outputs": [],
   "source": [
    "fpr, tpr, th = roc_curve(y_test,y_score)"
   ]
  },
  {
   "cell_type": "code",
   "execution_count": 169,
   "id": "a5d4f29c",
   "metadata": {},
   "outputs": [
    {
     "data": {
      "image/png": "[encoded data removed]",
      "text/plain": [
       "<Figure size 720x720 with 1 Axes>"
      ]
     },
     "metadata": {
      "needs_background": "light"
     },
     "output_type": "display_data"
    }
   ],
   "source": [
    "plt.subplots(1, figsize=(10,10))\n",
    "plt.title('Receiver Operating Characteristic - ANN')\n",
    "plt.plot(fpr, tpr)\n",
    "plt.plot([0, 1], ls=\"--\")\n",
    "plt.plot([0, 0], [1, 0] , c=\".7\"), plt.plot([1, 1] , c=\".7\")\n",
    "plt.ylabel('True Positive Rate')\n",
    "plt.xlabel('False Positive Rate')\n",
    "plt.show()\n"
   ]
  },
  {
   "cell_type": "code",
   "execution_count": 170,
   "id": "233b39d6",
   "metadata": {},
   "outputs": [
    {
     "name": "stdout",
     "output_type": "stream",
     "text": [
      "AUC:  0.9146526956227818\n"
     ]
    }
   ],
   "source": [
    "print('AUC: ',roc_auc_score(y_test,y_score))"
   ]
  },
  {
   "cell_type": "markdown",
   "id": "f4aa52ea",
   "metadata": {},
   "source": [
    "# Conclusions\n",
    "The SVC showed the best predictive performance with an AUC of 0.94 and Accuracy of 0.92. \n",
    "Due to the imblanced class distribution (many more 'active' samples compared to 'inactive') accuracy alone is not a very good metric to measure classification performance. Simply classifying all samples as active would lead a decent accuracy score. Therefore, a better metric is the lowest number of false positives and false negatives. The support vector classifier had the lowest number of false positives at 13/352 compared to 22/352 and 18/352 for the Gradient Boosted Tree and Artificial Neural Network, respectively. "
   ]
  },
  {
   "cell_type": "code",
   "execution_count": null,
   "id": "60198b96",
   "metadata": {},
   "outputs": [],
   "source": []
  }
 ],
 "metadata": {
  "kernelspec": {
   "display_name": "Python 3",
   "language": "python",
   "name": "python3"
  },
  "language_info": {
   "codemirror_mode": {
    "name": "ipython",
    "version": 3
   },
   "file_extension": ".py",
   "mimetype": "text/x-python",
   "name": "python",
   "nbconvert_exporter": "python",
   "pygments_lexer": "ipython3",
   "version": "3.8.8"
  }
 },
 "nbformat": 4,
 "nbformat_minor": 5
}
